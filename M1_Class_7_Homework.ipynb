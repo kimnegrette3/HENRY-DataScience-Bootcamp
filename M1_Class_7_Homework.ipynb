{
 "cells": [
  {
   "attachments": {},
   "cell_type": "markdown",
   "metadata": {},
   "source": [
    "# Práctica Clase 7"
   ]
  },
  {
   "attachments": {},
   "cell_type": "markdown",
   "metadata": {},
   "source": [
    "1) Diseñar una clase que permita trabajar con un árbol binario y que contenga los métodos:<br>\n",
    "    * insertaVal: para insertar un dato<br>\n",
    "    * buscaVal: que devuelva True o False si existe o no un dato<br>\n",
    "    * verVal: que imprima por pantalla los valores del árbol<br>\n",
    "\n",
    "Nota: Se puede utilizar la recursividad\n"
   ]
  },
  {
   "cell_type": "code",
   "execution_count": 1,
   "metadata": {},
   "outputs": [],
   "source": [
    "class Nodo():\n",
    "    def __init__(self, dato):\n",
    "        self.dato = dato\n",
    "        self.izq = None\n",
    "        self.der = None"
   ]
  },
  {
   "cell_type": "code",
   "execution_count": 38,
   "metadata": {},
   "outputs": [],
   "source": [
    "class Arbol():\n",
    "    def __init__(self, raiz):\n",
    "        self.raiz = Nodo(raiz)\n",
    "\n",
    "    \n",
    "    def __insertaRecursive(self, raiz, dato):\n",
    "        if raiz is None:\n",
    "            return Nodo(dato)\n",
    "        else: \n",
    "            if dato < raiz.dato:\n",
    "                raiz.izq = self.__insertaRecursive(raiz.izq, dato)\n",
    "            elif dato > raiz.dato:\n",
    "                raiz.der = self.__insertaRecursive(raiz.der, dato)\n",
    "        return raiz\n",
    "                \n",
    "\n",
    "    def insertaVal(self, dato):\n",
    "        self.raiz = self.__insertaRecursive(self.raiz, dato)\n",
    "                \n",
    "            \n",
    "    def __verRecursive(self,raiz):\n",
    "        if raiz:\n",
    "            self.__verRecursive(raiz.der)\n",
    "            print(raiz.dato)\n",
    "            self.__verRecursive(raiz.izq)\n",
    "            \n",
    "    \n",
    "    def verVal(self):\n",
    "        self.__verRecursive(self.raiz)\n",
    "        \n",
    "\n",
    "    def __buscaRecursive(self, raiz, val_busc):\n",
    "        \"\"\"Busqueda en el Arbol, devuelve True si existe el elemento, devuelve False si no existe\"\"\"\n",
    "        if val_busc < raiz.dato:                    # Pregutamos si es mas chico que el nodo que estoy apuntando\n",
    "            if raiz.izq is None:                    # Si es igual a vacio (None) es porque no existe\n",
    "                return False                        # Y si no exsite revuelve False\n",
    "            else:                                   # Si no es igual a vacio (None), significa que debo seguir buscando\n",
    "                return self.__buscaRecursive(raiz.izq, val_busc)  # Aplicamos recursividad sobre el nodo izq\n",
    "        elif val_busc > raiz.dato:                  # Preguntamos si es mas grande que el nodo que estoy apuntando\n",
    "            if raiz.der is None:                    # Si es igual a vacio (None) es porque no existe lo que estoy buscando\n",
    "                return False                        # Y si no existe, devuelve False\n",
    "            else:                                   # Si no es igual a vacio (None) debo seguir buscando\n",
    "                return self.__buscaRecursive(raiz.der, val_busc)  # Aplicamos recursividad sobre el nodo derecha\n",
    "        else:                                       # No es mas chico ni es mas grande, entonces es igual\n",
    "            return True   \n",
    "        \n",
    "    def buscaVal(self, dato):\n",
    "        return self.__buscaRecursive(self.raiz, dato)\n"
   ]
  },
  {
   "cell_type": "code",
   "execution_count": 39,
   "metadata": {},
   "outputs": [],
   "source": [
    "a = Arbol(40)"
   ]
  },
  {
   "cell_type": "code",
   "execution_count": 40,
   "metadata": {},
   "outputs": [],
   "source": [
    "a.insertaVal(2)\n",
    "a.insertaVal(31)\n",
    "a.insertaVal(45)\n",
    "a.insertaVal(5)"
   ]
  },
  {
   "cell_type": "code",
   "execution_count": 41,
   "metadata": {},
   "outputs": [
    {
     "name": "stdout",
     "output_type": "stream",
     "text": [
      "45\n",
      "40\n",
      "31\n",
      "5\n",
      "2\n"
     ]
    }
   ],
   "source": [
    "a.verVal() #print al medio"
   ]
  },
  {
   "cell_type": "code",
   "execution_count": 14,
   "metadata": {},
   "outputs": [
    {
     "name": "stdout",
     "output_type": "stream",
     "text": [
      "40\n",
      "45\n",
      "2\n",
      "31\n",
      "5\n"
     ]
    }
   ],
   "source": [
    "a.verVal() #print arriba"
   ]
  },
  {
   "cell_type": "code",
   "execution_count": 18,
   "metadata": {},
   "outputs": [
    {
     "name": "stdout",
     "output_type": "stream",
     "text": [
      "45\n",
      "5\n",
      "31\n",
      "2\n",
      "40\n"
     ]
    }
   ],
   "source": [
    "a.verVal() #print al final"
   ]
  },
  {
   "cell_type": "code",
   "execution_count": 43,
   "metadata": {},
   "outputs": [
    {
     "data": {
      "text/plain": [
       "False"
      ]
     },
     "execution_count": 43,
     "metadata": {},
     "output_type": "execute_result"
    }
   ],
   "source": [
    "a.buscaVal(0)"
   ]
  },
  {
   "cell_type": "code",
   "execution_count": 44,
   "metadata": {},
   "outputs": [
    {
     "data": {
      "text/plain": [
       "True"
      ]
     },
     "execution_count": 44,
     "metadata": {},
     "output_type": "execute_result"
    }
   ],
   "source": [
    "a.buscaVal(40)"
   ]
  },
  {
   "cell_type": "code",
   "execution_count": 45,
   "metadata": {},
   "outputs": [
    {
     "data": {
      "text/plain": [
       "True"
      ]
     },
     "execution_count": 45,
     "metadata": {},
     "output_type": "execute_result"
    }
   ],
   "source": [
    "a.buscaVal(31)"
   ]
  }
 ],
 "metadata": {
  "kernelspec": {
   "display_name": "Python 3",
   "language": "python",
   "name": "python3"
  },
  "language_info": {
   "codemirror_mode": {
    "name": "ipython",
    "version": 3
   },
   "file_extension": ".py",
   "mimetype": "text/x-python",
   "name": "python",
   "nbconvert_exporter": "python",
   "pygments_lexer": "ipython3",
   "version": "3.10.10"
  }
 },
 "nbformat": 4,
 "nbformat_minor": 4
}
