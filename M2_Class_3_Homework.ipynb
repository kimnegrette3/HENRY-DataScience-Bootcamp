{
 "cells": [
  {
   "cell_type": "code",
   "execution_count": 4,
   "metadata": {},
   "outputs": [
    {
     "name": "stdout",
     "output_type": "stream",
     "text": [
      "P(A|B) = 0.67\n",
      "P(B|A) = 0.8\n",
      "A y B no son eventos independientes\n"
     ]
    }
   ],
   "source": [
    "'''Suponga dos eventos, A y B, y que P(A) = 0.50, P(B) = 0.60 y P(A ∩ B) = 0.40.\n",
    "a. Halle P(A | B).\n",
    "b. Halle P(B | A).\n",
    "c. ¿A y B son independientes? ¿Por qué sí o por qué no?'''\n",
    "\n",
    "Pa = 0.50\n",
    "Pb = 0.60\n",
    "Paub = 0.40\n",
    "Pa_b = Paub/Pb\n",
    "Pb_a = Paub/Pa\n",
    "\n",
    "print(f'P(A|B) = {round(Pa_b,2)}')\n",
    "print(f'P(B|A) = {round(Pb_a,2)}')\n",
    "\n",
    "if Paub == Pa * Pb:\n",
    "    print(f'A y B son eventos independientes')\n",
    "else:\n",
    "    print('A y B no son eventos independientes')"
   ]
  },
  {
   "cell_type": "code",
   "execution_count": null,
   "metadata": {},
   "outputs": [],
   "source": [
    "'''Suponga dos eventos, A y B, que son mutuamente excluyentes. Admita, además, que P(A) = 0.30 y P(B) = 0.40.\n",
    "a. Obtenga P(A ∩ B). ¿Existe intersección entre los dos conjuntos?. --> No, son mutuamente excluyentes\n",
    "b. Calcule P(A | B). --> Es Cero, pues son mutuamente excluyentes, y si sucede B, no puede suceder A.\n",
    "c. Un estudiante de estadística argumenta que los conceptos de eventos mutuamente excluyentes \n",
    "    y eventos independientes son en realidad lo mismo y que si los eventos son mutuamente excluyentes \n",
    "    deben ser también independientes. ¿Está usted de acuerdo? Use la información sobre las probabilidades \n",
    "    para justificar su respuesta.'''\n"
   ]
  },
  {
   "cell_type": "code",
   "execution_count": 7,
   "metadata": {},
   "outputs": [
    {
     "name": "stdout",
     "output_type": "stream",
     "text": [
      "a) 0.159\n",
      "b) 0.391\n"
     ]
    }
   ],
   "source": [
    "''' Si en la concesionaria se seleccionan dos ventas con reposición (Los sucesos son independientes.). Hallar la probabilidad de que las ventas sean:\n",
    "a. La primera de un comprador de “menos de 40 años” y la segunda de uno de \"entre 40 y 50 años\".\n",
    "b. las dos sean de autos \"nacionales\".'''\n",
    "\n",
    "Pmenor_40 = 30/80\n",
    "P40y50 = 34/80 \n",
    "prob_a = Pmenor_40 * P40y50\n",
    "print(f'a) {round(prob_a,3)}')\n",
    "\n",
    "Pnal = 50/80\n",
    "prob_b = Pnal * Pnal\n",
    "print(f'b) {round(prob_b,3)}')"
   ]
  },
  {
   "cell_type": "code",
   "execution_count": 6,
   "metadata": {},
   "outputs": [
    {
     "name": "stdout",
     "output_type": "stream",
     "text": [
      "a) 0.161\n",
      "b) 0.388\n"
     ]
    }
   ],
   "source": [
    "'''Si la selección de las dos ventas se realiza sin reposición. Hallar la probabilidad de que las ventas sean:\n",
    "Los sucesos son condicionales.\n",
    "a. la primera de un comprador de “menos de 40 años” y la segunda de uno de \"entre 40 y 50 años\".\n",
    "b. las dos sean de autos \"nacionales\".'''\n",
    "\n",
    "Pmenor_40 = 30/80\n",
    "P40y50 = 34/79 #Considerando que ya sucedió la compra del menor de 40\n",
    "prob_a = Pmenor_40 * P40y50\n",
    "print(f'a) {round(prob_a,3)}')\n",
    "\n",
    "Pnal = 50/80\n",
    "Pnal_2 = 49/79 #Dado que ya se realizó la primera compra del mismo tipo\n",
    "prob_b = Pnal * Pnal_2\n",
    "print(f'b) {round(prob_b,3)}')\n"
   ]
  },
  {
   "cell_type": "code",
   "execution_count": 22,
   "metadata": {},
   "outputs": [
    {
     "name": "stdout",
     "output_type": "stream",
     "text": [
      "0.3227848101265823\n"
     ]
    }
   ],
   "source": [
    "''' Si la selección de las dos ventas se realiza sin reposición. Hallar la probabilidad de que las ventas sean:\n",
    "Los sucesos son condicionales.\n",
    "a. De un comprador de “menos de 40 años” y de uno de \"entre 40 y 50 años\". Sin importar el orden.'''\n",
    "\n",
    "Prob = (30/80 * 34/79) + (34/80 * 30/79) #Sumar los dos escenarios posibles, o sea una Union \n",
    "print(Prob)"
   ]
  },
  {
   "cell_type": "code",
   "execution_count": 16,
   "metadata": {},
   "outputs": [
    {
     "data": {
      "text/html": [
       "<div>\n",
       "<style scoped>\n",
       "    .dataframe tbody tr th:only-of-type {\n",
       "        vertical-align: middle;\n",
       "    }\n",
       "\n",
       "    .dataframe tbody tr th {\n",
       "        vertical-align: top;\n",
       "    }\n",
       "\n",
       "    .dataframe thead th {\n",
       "        text-align: right;\n",
       "    }\n",
       "</style>\n",
       "<table border=\"1\" class=\"dataframe\">\n",
       "  <thead>\n",
       "    <tr style=\"text-align: right;\">\n",
       "      <th></th>\n",
       "      <th>Sí</th>\n",
       "      <th>No</th>\n",
       "      <th>Total</th>\n",
       "    </tr>\n",
       "    <tr>\n",
       "      <th>Edad</th>\n",
       "      <th></th>\n",
       "      <th></th>\n",
       "      <th></th>\n",
       "    </tr>\n",
       "  </thead>\n",
       "  <tbody>\n",
       "    <tr>\n",
       "      <th>18-34</th>\n",
       "      <td>750</td>\n",
       "      <td>170</td>\n",
       "      <td>920</td>\n",
       "    </tr>\n",
       "    <tr>\n",
       "      <th>34 o más</th>\n",
       "      <td>950</td>\n",
       "      <td>130</td>\n",
       "      <td>1080</td>\n",
       "    </tr>\n",
       "    <tr>\n",
       "      <th>Total</th>\n",
       "      <td>1700</td>\n",
       "      <td>300</td>\n",
       "      <td>2000</td>\n",
       "    </tr>\n",
       "  </tbody>\n",
       "</table>\n",
       "</div>"
      ],
      "text/plain": [
       "            Sí   No  Total\n",
       "Edad                      \n",
       "18-34      750  170    920\n",
       "34 o más   950  130   1080\n",
       "Total     1700  300   2000"
      ]
     },
     "execution_count": 16,
     "metadata": {},
     "output_type": "execute_result"
    }
   ],
   "source": [
    "#Tabla de seguros médicos\n",
    "import pandas as pd\n",
    "\n",
    "tabla = {'Edad':['18-34', '34 o más', 'Total'], 'Sí': [750,950,1700], 'No': [170,130,300]}\n",
    "df = pd.DataFrame(tabla).set_index('Edad')\n",
    "df['Total'] = df.sum(axis=1)\n",
    "df\n"
   ]
  },
  {
   "cell_type": "code",
   "execution_count": 17,
   "metadata": {},
   "outputs": [
    {
     "data": {
      "text/html": [
       "<div>\n",
       "<style scoped>\n",
       "    .dataframe tbody tr th:only-of-type {\n",
       "        vertical-align: middle;\n",
       "    }\n",
       "\n",
       "    .dataframe tbody tr th {\n",
       "        vertical-align: top;\n",
       "    }\n",
       "\n",
       "    .dataframe thead th {\n",
       "        text-align: right;\n",
       "    }\n",
       "</style>\n",
       "<table border=\"1\" class=\"dataframe\">\n",
       "  <thead>\n",
       "    <tr style=\"text-align: right;\">\n",
       "      <th></th>\n",
       "      <th>Sí</th>\n",
       "      <th>No</th>\n",
       "      <th>Total</th>\n",
       "    </tr>\n",
       "    <tr>\n",
       "      <th>Edad</th>\n",
       "      <th></th>\n",
       "      <th></th>\n",
       "      <th></th>\n",
       "    </tr>\n",
       "  </thead>\n",
       "  <tbody>\n",
       "    <tr>\n",
       "      <th>18-34</th>\n",
       "      <td>0.375</td>\n",
       "      <td>0.085</td>\n",
       "      <td>0.46</td>\n",
       "    </tr>\n",
       "    <tr>\n",
       "      <th>34 o más</th>\n",
       "      <td>0.475</td>\n",
       "      <td>0.065</td>\n",
       "      <td>0.54</td>\n",
       "    </tr>\n",
       "    <tr>\n",
       "      <th>Total</th>\n",
       "      <td>0.850</td>\n",
       "      <td>0.150</td>\n",
       "      <td>1.00</td>\n",
       "    </tr>\n",
       "  </tbody>\n",
       "</table>\n",
       "</div>"
      ],
      "text/plain": [
       "             Sí     No  Total\n",
       "Edad                         \n",
       "18-34     0.375  0.085   0.46\n",
       "34 o más  0.475  0.065   0.54\n",
       "Total     0.850  0.150   1.00"
      ]
     },
     "execution_count": 17,
     "metadata": {},
     "output_type": "execute_result"
    }
   ],
   "source": [
    "#a. Con estos datos elabore una tabla de probabilidad conjunta y úsela para responder las preguntas restantes.\n",
    "df_prob = df.apply(lambda x: x/2000)\n",
    "df_prob"
   ]
  },
  {
   "cell_type": "code",
   "execution_count": 21,
   "metadata": {},
   "outputs": [
    {
     "name": "stdout",
     "output_type": "stream",
     "text": [
      "P(Nsm|18-34) = 0.18\n",
      "P(Nsm|35-) = 0.12\n",
      "P(18-34|Nsm) = 0.57\n"
     ]
    }
   ],
   "source": [
    "''' \n",
    "b. ¿Qué indican las probabilidades marginales acerca de la edad de la población?\n",
    "---> Que es un poco más probable que una persona al azar tomada de la población tenga 34 años o más\n",
    "c. ¿Cuál es la probabilidad de que una persona tomada en forma aleatoria no tenga seguro médico?\n",
    "---> 15% \n",
    "d. Si la persona tiene entre 18 y 34 años, ¿cuál es la probabilidad de que no tenga seguro médico?\n",
    "e. Si la persona tiene 35 años o más ¿cuál es la probabilidad de que no tenga seguro médico?\n",
    "f. Si la persona no tiene seguro médico, ¿cuál es la probabilidad de que tenga entre 18 y 34 años?'''\n",
    "\n",
    "# d. \n",
    "P_18a34 = 0.46\n",
    "P_nosm = 0.15\n",
    "P_conj_d = 0.085\n",
    "#Entonces piden la Prob de que No tenga seguro, dado que tiene entre 18 y 34 años\n",
    "prob_d = P_conj_d / P_18a34 \n",
    "print(F'P(Nsm|18-34) = {round(prob_d,2)}')\n",
    "\n",
    "# e.\n",
    "P_35omas = 0.54\n",
    "P_nosm = 0.15\n",
    "P_conj_e = 0.065\n",
    "#Entonces piden la Prob de que No tenga seguro, dado que tiene 35 o más años\n",
    "prob_e = P_conj_e / P_35omas\n",
    "print(f'P(Nsm|35-) = {round(prob_e,2)}')\n",
    "\n",
    "# f. Prob de que tenga 18-34 años, dado que no tiene seguro médico\n",
    "prob_f = P_conj_d / P_nosm\n",
    "print(f'P(18-34|Nsm) = {round(prob_f,2)}')"
   ]
  }
 ],
 "metadata": {
  "kernelspec": {
   "display_name": "base",
   "language": "python",
   "name": "python3"
  },
  "language_info": {
   "codemirror_mode": {
    "name": "ipython",
    "version": 3
   },
   "file_extension": ".py",
   "mimetype": "text/x-python",
   "name": "python",
   "nbconvert_exporter": "python",
   "pygments_lexer": "ipython3",
   "version": "3.10.10"
  },
  "orig_nbformat": 4
 },
 "nbformat": 4,
 "nbformat_minor": 2
}
