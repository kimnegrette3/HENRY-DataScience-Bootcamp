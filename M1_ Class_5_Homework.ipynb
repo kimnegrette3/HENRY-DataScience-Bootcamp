{
 "cells": [
  {
   "attachments": {},
   "cell_type": "markdown",
   "metadata": {},
   "source": [
    "# Práctica Clase 5"
   ]
  },
  {
   "attachments": {},
   "cell_type": "markdown",
   "metadata": {},
   "source": [
    "1) Implementar un juego, que consista en apilar números enteros del 1 al 20, de forma aleatoria, para lo cual debe usarse una estructura de Pila. \n",
    "Luego, el usuario debe elegir un número de veces en que se va a quitar elementos de la pila, los cuales, sumados entre sí, no deben superar el valor de 50.\n",
    "El usuario pierde si la suma supera ese valor. Si no lo supera, gana, pero su calificación será 10 menos el número elementos que falten quitar para todavía no superar 50.\n",
    "El programa debe informar si perdió, y si ganó, con qué calificación lo hizo.\n",
    "\n",
    "Consideraciones:<br>\n",
    "a. Se puede usar la función input() para obtener una entrada de teclado.<br>\n",
    "b. Se puede usar la el modulo random para obtener valores aleatorios."
   ]
  },
  {
   "attachments": {},
   "cell_type": "markdown",
   "metadata": {},
   "source": [
    "Pseudocode:\n",
    "- Crear una clase pila\n",
    "- Crear una pila de enteros aleatorios con range(20) y randint\n",
    "- Generar un comando de input para que el usuario ingrese un número entero\n",
    "- Ese número será el número de veces que se ejecute el comando pop() a la pila\n",
    "- Los resultados del pop() deberán ser almacenados en una lista para sumarlos entre sí\n",
    "- Si la suma de los elementos popeados es mayor a 50, el usuario pierde\n",
    "- Si la suma de los elementos popeados en menor a 50, el usuario gana y debe calcularse su puntaje\n",
    "- El puntaje se calcula con un conteo de pops, almacenando los valores popeados y sumándolos a la lista anterior hasta que llegue a 50 o lo supere. \n",
    "- El puntaje será 10 - (conteo de pops adicionales)  \n"
   ]
  },
  {
   "cell_type": "code",
   "execution_count": 11,
   "metadata": {},
   "outputs": [],
   "source": [
    "# Creación clase Pila\n",
    "\n",
    "class Pila(object):\n",
    "    def __init__(self):\n",
    "        self.__list = []\n",
    "\n",
    "    #Agregar un elemento a la Pila\n",
    "    def push(self,item):\n",
    "        self.__list.append(item)\n",
    "\n",
    "    #Quitar un elemento de la Pila\n",
    "    def pop(self):\n",
    "        return self.__list.pop()\n",
    "    \n",
    "    #Obtener el elemento superior (o último) de la Pila\n",
    "    def peek(self):\n",
    "        if self.__list:\n",
    "            return self.__list[-1]\n",
    "        else:\n",
    "            return None\n",
    "        \n",
    "    #Determinar si la pila está vacía:\n",
    "    def is_empty(self):\n",
    "        return self.__list == []\n",
    "    \n",
    "    #Obtener el número de elementos de la Pila:\n",
    "    def size(self):\n",
    "        return len(self.__list)\n",
    "    \n",
    "    #Imprimir todos los elementos de la Pila:\n",
    "    def show_all(self):\n",
    "        return self.__list"
   ]
  },
  {
   "cell_type": "code",
   "execution_count": 44,
   "metadata": {},
   "outputs": [
    {
     "data": {
      "text/plain": [
       "[14, 17, 17, 4, 11, 19, 15, 14, 8, 6, 9, 15, 6, 10, 6, 2, 11, 9, 3, 11]"
      ]
     },
     "execution_count": 44,
     "metadata": {},
     "output_type": "execute_result"
    }
   ],
   "source": [
    "#Crear una pila con números enteros aleatorios del 1 al 20 \n",
    "import numpy as np\n",
    "import random\n",
    "\n",
    "my_pile = Pila()\n",
    "for i in range(20):\n",
    "    num = random.randint(1,20)\n",
    "    my_pile.push(num)\n",
    "my_pile.size()\n",
    "my_pile.show_all()"
   ]
  },
  {
   "cell_type": "code",
   "execution_count": 50,
   "metadata": {},
   "outputs": [
    {
     "name": "stdout",
     "output_type": "stream",
     "text": [
      "Lista de elementos retirados: [6, 15, 9, 6]\n"
     ]
    }
   ],
   "source": [
    "#Generar un comando de input para que el usuario ingrese un número entero\n",
    "retiradas = int(input('Ingrese el número de retiradas que desea realizar (entre 0 y 20): '))\n",
    "\n",
    "#Ese número será el número de veces que se ejecute el comando pop() a la pila\n",
    "lista_pops = [] #Creo lista vacía para almacenar los pops\n",
    "for _ in range(retiradas):  #Ejecuto el método pop() el número de veces indicada por el usuario\n",
    "    pop = my_pile.pop()\n",
    "    lista_pops.append(pop)  #Guardo en la lista\n",
    "\n",
    "print(f'Lista de elementos retirados: {lista_pops}')\n"
   ]
  },
  {
   "cell_type": "code",
   "execution_count": 46,
   "metadata": {},
   "outputs": [
    {
     "name": "stdout",
     "output_type": "stream",
     "text": [
      "Suma de elementos retirados: 52\n",
      "-----------\n",
      "Has Perdido :(\n",
      "Mejor suerte para la próxima\n"
     ]
    }
   ],
   "source": [
    "suma_pops = sum(lista_pops)\n",
    "print(f'Suma de elementos retirados: {suma_pops}')\n",
    "print('-----------')\n",
    "#Si la suma de los elementos popeados es mayor a 50, el usuario pierde\n",
    "if suma_pops > 50:\n",
    "    print('Has Perdido :(\\nMejor suerte para la próxima')\n",
    "\n",
    "else:\n",
    "    #El puntaje se calcula con un conteo de pops adicionales, \n",
    "    #almacenando los valores popeados y sumándolos a la lista anterior hasta que llegue a 50, sin superarlo. \n",
    "    conteo_pops = 0\n",
    "    while suma_pops < 50:\n",
    "        pop_ad = my_pile.pop()\n",
    "        if suma_pops + pop_ad > 50:\n",
    "            break\n",
    "        suma_pops += pop_ad\n",
    "        conteo_pops += 1\n",
    "    print(f'Número de retiradas adicionales: {conteo_pops}, Suma total de elementos retirados antes de llegar a 50: {suma_pops}')\n",
    "    print(f'HAS GANADO. Tu puntaje final es {10 - conteo_pops}')"
   ]
  },
  {
   "cell_type": "code",
   "execution_count": 110,
   "metadata": {},
   "outputs": [],
   "source": [
    "def PseudoBlackJack():\n",
    "    my_pile = Pila()\n",
    "    for _ in range(20):\n",
    "        num = random.randint(1,20)\n",
    "        my_pile.push(num)\n",
    "\n",
    "    retiradas = int(input('Ingrese el número de retiradas que desea realizar (entre 0 y 20): '))\n",
    "    if (type(retiradas) != int) or (retiradas not in range(21)):\n",
    "        return 'Ingrese un número entero entre 0 y 20 para jugar'\n",
    "    \n",
    "    lista_pops = []\n",
    "    for _ in range(retiradas):\n",
    "        pop = my_pile.pop()\n",
    "        lista_pops.append(pop) \n",
    "\n",
    "    suma_pops = sum(lista_pops)\n",
    "\n",
    "    if suma_pops > 50:\n",
    "        print('Has Perdido :(\\nMejor suerte para la próxima')\n",
    "\n",
    "    else:\n",
    "        conteo_pops = 0\n",
    "        while suma_pops < 50:\n",
    "            pop_ad = my_pile.pop()\n",
    "            if suma_pops + pop_ad > 50:\n",
    "                break\n",
    "            suma_pops += pop_ad\n",
    "            conteo_pops += 1\n",
    "\n",
    "        print(f'Sus Cartas iniciales son: {my_pile.show_all()}')\n",
    "        print(f'Las cartas retiradas son: {lista_pops}')\n",
    "        print(f'Número de retiradas adicionales: {conteo_pops}, Suma total de elementos retirados antes de llegar a 50: {suma_pops}')\n",
    "        print(f'HAS GANADO. Tu puntaje final es {10 - conteo_pops}')\n",
    "        \n"
   ]
  },
  {
   "cell_type": "code",
   "execution_count": 111,
   "metadata": {},
   "outputs": [
    {
     "name": "stdout",
     "output_type": "stream",
     "text": [
      "Sus Cartas iniciales son: [2, 7, 10, 2, 12, 4, 8, 4, 20, 5, 16, 17, 14, 6]\n",
      "Las cartas retiradas son: [6, 1, 17, 6]\n",
      "Número de retiradas adicionales: 1, Suma total de elementos retirados antes de llegar a 50: 49\n",
      "HAS GANADO. Tu puntaje final es 9\n"
     ]
    }
   ],
   "source": [
    "PseudoBlackJack()"
   ]
  },
  {
   "attachments": {},
   "cell_type": "markdown",
   "metadata": {},
   "source": [
    "2) Implementar un juego donde constas de 2 jarras, de capacidad 5 y 3 litros respectivamente, y debes colocar 4 litros en la jarra de 5L.\n",
    "Las opciones posibles son:\n",
    "* Llenar la jarra de 3 litros\n",
    "* Llenar la jarra de 5 litros\n",
    "* Vaciar la jarra de 3 litros\n",
    "* Vaciar la jarra de 5 litros\n",
    "* Verter el contenido de la jarra de 3 litros en la de 5 litros\n",
    "* Verter el contenido de la jarra de 5 litros en la de 3 litros"
   ]
  },
  {
   "attachments": {},
   "cell_type": "markdown",
   "metadata": {},
   "source": [
    "- Llevar dos contadores, uno para cada jarra\n",
    "- Hacer las funciones de llenado, vaciado y vertido para cada una"
   ]
  },
  {
   "cell_type": "code",
   "execution_count": 85,
   "metadata": {},
   "outputs": [],
   "source": [
    "class Cola(object):\n",
    "    # Creamos lista de manera automática, cada vez que llamamos a la clase\n",
    "    def __init__(self):\n",
    "        self.__list = []\n",
    "    # Agregamos un elemento a la cola\n",
    "    def enqueue(self, item):\n",
    "        self.__list.append(item)\n",
    "        \n",
    "    # Quitar un elemento de la cola; la diferencia con el código de Pilas es que en el pop, le estamos diciendo que \n",
    "    # borre el último elemento de las lista, al no pasarle ningún número en el paréntesis, pop().\n",
    "    # Mientras que en las colas ---> pop(0), se le pasa pop con el índice en 0.\n",
    "    def dequeue(self):\n",
    "        return self.__list.pop(0)\n",
    "        \n",
    "    # Verificar si la cola está vacía\n",
    "    def is_empty(self):\n",
    "        return self.__list == []\n",
    "        \n",
    "    # Devolver la cantidad de elementos que tiene la cola\n",
    "    def size(self):\n",
    "        return len(self.__list)\n",
    "    \n",
    "    #Imprimir todos los elementos de la Cola:\n",
    "    def show_all(self):\n",
    "        return self.__list"
   ]
  },
  {
   "cell_type": "code",
   "execution_count": 116,
   "metadata": {},
   "outputs": [],
   "source": [
    "class JuegoJarras:\n",
    "    def __init__(self):\n",
    "        self.jarra_5 = Cola()\n",
    "        self.jarra_3 = Cola()\n",
    "        self.capacidad_5 = 5\n",
    "        self.capacidad_3 = 3\n",
    "\n",
    "    def llenar_jarra_3(self):\n",
    "        while self.jarra_3.size() < self.capacidad_3:\n",
    "            self.jarra_3.enqueue(1)\n",
    "\n",
    "    def llenar_jarra_5(self):\n",
    "        while self.jarra_5.size() < self.capacidad_5:\n",
    "            self.jarra_5.enqueue(1)\n",
    "\n",
    "    def vaciar_jarra_3(self):\n",
    "        self.jarra_3 = Cola()\n",
    "\n",
    "    def vaciar_jarra_5(self):\n",
    "        self.jarra_5 = Cola()\n",
    "\n",
    "    def verter_jarra_3_a_5(self):\n",
    "        while (self.jarra_5.size() < self.capacidad_5) and (not self.jarra_3.is_empty()):\n",
    "            self.jarra_5.enqueue(self.jarra_3.dequeue())\n",
    "\n",
    "    def verter_jarra_5_a_3(self):\n",
    "        while (self.jarra_3.size() < self.capacidad_3) and (not self.jarra_5.is_empty()):\n",
    "            self.jarra_3.enqueue(self.jarra_5.dequeue())\n",
    "\n",
    "    def verificar_estado_jarras(self):\n",
    "        print(f'Estado actual de las jarras: Jarra 5: {self.jarra_5.size()}lt. Jarra 3: {self.jarra_3.size()} lt.')\n",
    "\n",
    "    def jugar(self):\n",
    "        print(\"¡Bienvenido al juego de las jarras!\")\n",
    "        print(\"Objetivo: Obtener 4 litros en la jarra de 5 litros.\")\n",
    "\n",
    "        salir = False\n",
    "        while self.jarra_5.size() != 4 and not salir:\n",
    "            print('*' * 50)\n",
    "            self.verificar_estado_jarras()\n",
    "            print(\"\\nOpciones disponibles:\")\n",
    "            print(\"1. Llenar la jarra de 3 litros\")\n",
    "            print(\"2. Llenar la jarra de 5 litros\")\n",
    "            print(\"3. Vaciar la jarra de 3 litros\")\n",
    "            print(\"4. Vaciar la jarra de 5 litros\")\n",
    "            print(\"5. Verter el contenido de la jarra de 3 litros en la de 5 litros\")\n",
    "            print(\"6. Verter el contenido de la jarra de 5 litros en la de 3 litros\")\n",
    "            print(\"0. Salir\\n\\n\")\n",
    "\n",
    "            opcion = int(input(\"Selecciona una opción (1-6): \"))\n",
    "\n",
    "            if opcion == 1:\n",
    "                self.llenar_jarra_3()\n",
    "            elif opcion == 2:\n",
    "                self.llenar_jarra_5()\n",
    "            elif opcion == 3:\n",
    "                self.vaciar_jarra_3()\n",
    "            elif opcion == 4:\n",
    "                self.vaciar_jarra_5()\n",
    "            elif opcion == 5:\n",
    "                self.verter_jarra_3_a_5()\n",
    "            elif opcion == 6:\n",
    "                self.verter_jarra_5_a_3()\n",
    "            elif opcion == 0:\n",
    "                salir = True\n",
    "            else:\n",
    "                print(\"Opción inválida. Por favor, selecciona una opción válida.\")\n",
    "\n",
    "        if not salir:\n",
    "            print(\"¡Felicidades! Has obtenido 4 litros en la jarra de 5 litros.\")\n",
    "    \n",
    "\n"
   ]
  },
  {
   "cell_type": "code",
   "execution_count": 117,
   "metadata": {},
   "outputs": [
    {
     "name": "stdout",
     "output_type": "stream",
     "text": [
      "¡Bienvenido al juego de las jarras!\n",
      "Objetivo: Obtener 4 litros en la jarra de 5 litros.\n",
      "**************************************************\n",
      "Estado actual de las jarras: Jarra 5: 0lt. Jarra 3: 0 lt.\n",
      "\n",
      "Opciones disponibles:\n",
      "1. Llenar la jarra de 3 litros\n",
      "2. Llenar la jarra de 5 litros\n",
      "3. Vaciar la jarra de 3 litros\n",
      "4. Vaciar la jarra de 5 litros\n",
      "5. Verter el contenido de la jarra de 3 litros en la de 5 litros\n",
      "6. Verter el contenido de la jarra de 5 litros en la de 3 litros\n",
      "0. Salir\n",
      "\n",
      "\n"
     ]
    }
   ],
   "source": [
    "\n",
    "# Crear una instancia del juego y jugar\n",
    "juego = JuegoJarras()\n",
    "juego.jugar()"
   ]
  }
 ],
 "metadata": {
  "kernelspec": {
   "display_name": "Python 3",
   "language": "python",
   "name": "python3"
  },
  "language_info": {
   "codemirror_mode": {
    "name": "ipython",
    "version": 3
   },
   "file_extension": ".py",
   "mimetype": "text/x-python",
   "name": "python",
   "nbconvert_exporter": "python",
   "pygments_lexer": "ipython3",
   "version": "3.10.10"
  }
 },
 "nbformat": 4,
 "nbformat_minor": 4
}
