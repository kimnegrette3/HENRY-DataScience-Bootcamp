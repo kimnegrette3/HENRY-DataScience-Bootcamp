{
 "cells": [
  {
   "attachments": {},
   "cell_type": "markdown",
   "metadata": {},
   "source": [
    "## Homework\n",
    "Utilizando Python cálcular las siguientes probabilidades. Para cada uno intenta determinar que método aplicaste.<br>\n",
    "\n",
    "1. Lanza una moneda al aire 10 veces, ¿cuantos resultados posibles forman parte del espacio muestral?.\n",
    "2. En un aeropuerto se tiene a 10 pasajeros esperando en la sala de preembarque, la polícia debe controlar a 3 de ellos. ¿Cuantas combinaciones posibles se pueden obtener?.\n",
    "3. La Agencia Nacional de Seguridad Vial realizó una investigación para saber si los conductores de están usando sus cinturones de seguridad. Los datos muestrales fueron los siguientes:<br>\n",
    "Conductores que emplean el cinturón <br>\n",
    "\n",
    "![Ejercicio](../_src/assets/ejercicio3.PNG)\n",
    "\n",
    "- a) ¿Qué metodo cree que se utilizo para asignar probabilidades?.\n",
    "- b) Construya un cuadro similar, pero con la asignación de probabilidades.\n",
    "- c) ¿Cuál sería el mejor método pára estimar la probabilidad de que en Estados Unidos un conductor lleve puesto el cinturón?.\n",
    "- d) Un año antes, la probabilidad en Argentina de que un conductor llevara puesto el cinturón era 0.75. El director de ANSV, se esperaba que la probabilidad llegara a 0.78. ¿Estará satisfecho con los resultados del estudio? (Utilizar tabla adjunta (![Ejercicio](../_src/assets/ejercicio3.PNG))\n",
    "- e) ¿Cuál es la probabilidad de que se use el cinturón en las distintas regiones del país? ¿En qué región se usa más el cinturón?(Utilizar misma tabla que el ejercicio anterior).\n",
    "\n",
    "\n",
    "4. Crear una funcion que permita calcular a probabilidad de los siguientes eventos en un baraja de 52 cartas.<br>\n",
    "- Obtener una carta roja.<br>\n",
    "- Obtener una carta negra.<br>\n",
    "- Obtener una pica.<br>\n",
    "- Obtener un trébol.<br>\n",
    "- Obtener un corazón.<br>\n",
    "- Obtener un diamante.<br>\n",
    "5. La probabilidad de que salga un 7 o un 8 al seleccionar una carta de una baraja de las 52 cartas que contiene el mazo. <br>\n",
    "6. La probabilidad de tu país gane el mundial de fútbol.<br>\n",
    "7. Un experimento que tiene tres resultados es repetido 50 veces y se ve que E1 aparece 20 veces, E2 13 veces y E3 17 veces. Asigne probabilidades a los resultados.<br>\n",
    "\n",
    "\n",
    "## Desafíos complementarios \n",
    "\n",
    "### Investiga e intenta resolver los siguientes ejercicios\n",
    "\n",
    "1. Si la probabilidad de que un cliente pague en efectivo (E) es 6/15, con tarjeta de crédito (TD) es 7/15 y con tarjeta de débito (TD) es 2/15. Hallar la probabilidad de que dos clientes sucesivos que pagan sus cuentas lo hagan:<br>\n",
    " a) el primero en efectivo y el segundo con tarjeta de crédito.<br>\n",
    " b) Los dos clientes en efectivo<br>\n",
    "2. La probabilidad de que un Henry repruebe el M1 de 0.8, de que apruebe M2 es 0.5 y de que repruebe el M3 es de 0.4.<br>\n",
    " (Los eventos no interfieren entre si) <br>\n",
    "\n",
    "![Tabla](../_src/assets/probhenry.PNG)\n",
    "\n",
    "Determinar la probabilidad de que:<br>\n",
    " a) Apruebe un módulo.<br>\n",
    " b) Repruebe las tres materias.\n",
    "\n",
    "Completa la tarea descrita en el archivo [README](https://github.com/soyHenry/Python-Prep/blob/4aec1885136fdcff98899d2be13c8908b39f8b21/02%20-%20Variables%20y%20Tipos%20de%20Datos/Prep_Course_Homework_02.md)\n",
    "\n"
   ]
  },
  {
   "cell_type": "code",
   "execution_count": 7,
   "metadata": {},
   "outputs": [
    {
     "data": {
      "text/plain": [
       "1024"
      ]
     },
     "execution_count": 7,
     "metadata": {},
     "output_type": "execute_result"
    }
   ],
   "source": [
    "'''1. Lanza una moneda al aire 10 veces, ¿cuantos resultados posibles forman parte del espacio muestral?.\n",
    "Hay dos opciones de resultado por cada lanzamiento, y las probabilidades se multiplican a cada intento\n",
    "por tanto sería 2^10'''\n",
    "\n",
    "def EspacioMuestralMoneda(lanzamientos):\n",
    "    ''' Función para calcular el espacio muestral de un número definido de lanzamientos de moneda\n",
    "    param lanzamientos: número de veces que se lanza la moneda para ver el resultado, entero, mayor a cero'''\n",
    "    if lanzamientos > 0 and type(lanzamientos) == int:\n",
    "        em = 2**lanzamientos\n",
    "        return em\n",
    "\n",
    "EspacioMuestralMoneda(10)\n",
    "\n"
   ]
  },
  {
   "cell_type": "code",
   "execution_count": 10,
   "metadata": {},
   "outputs": [
    {
     "data": {
      "text/plain": [
       "120.0"
      ]
     },
     "execution_count": 10,
     "metadata": {},
     "output_type": "execute_result"
    }
   ],
   "source": [
    "'''2. En un aeropuerto se tiene a 10 pasajeros esperando en la sala de preembarque, \n",
    "la polícia debe controlar a 3 de ellos. ¿Cuantas combinaciones posibles se pueden obtener?.\n",
    "Aquí se haría un conteo para combinaciones de N objetos, tomados de n en n'''\n",
    "\n",
    "import math\n",
    "\n",
    "def ConteoCombinaciones(N, n):\n",
    "    ''' Función para calcular el número posible de combinaciones de N objetos tomados de n en n\n",
    "    param N: Número total de objetos del conjunto\n",
    "    param n: Número de objetos a seleccionar'''\n",
    "    return (math.factorial(N)) / (math.factorial(n) * math.factorial(N - n))\n",
    "\n",
    "ConteoCombinaciones(10, 3)\n"
   ]
  },
  {
   "cell_type": "code",
   "execution_count": 12,
   "metadata": {},
   "outputs": [
    {
     "data": {
      "text/html": [
       "<div>\n",
       "<style scoped>\n",
       "    .dataframe tbody tr th:only-of-type {\n",
       "        vertical-align: middle;\n",
       "    }\n",
       "\n",
       "    .dataframe tbody tr th {\n",
       "        vertical-align: top;\n",
       "    }\n",
       "\n",
       "    .dataframe thead th {\n",
       "        text-align: right;\n",
       "    }\n",
       "</style>\n",
       "<table border=\"1\" class=\"dataframe\">\n",
       "  <thead>\n",
       "    <tr style=\"text-align: right;\">\n",
       "      <th></th>\n",
       "      <th>Región</th>\n",
       "      <th>Sí</th>\n",
       "      <th>No</th>\n",
       "    </tr>\n",
       "  </thead>\n",
       "  <tbody>\n",
       "    <tr>\n",
       "      <th>0</th>\n",
       "      <td>Norte</td>\n",
       "      <td>148</td>\n",
       "      <td>52</td>\n",
       "    </tr>\n",
       "    <tr>\n",
       "      <th>1</th>\n",
       "      <td>Noreste</td>\n",
       "      <td>162</td>\n",
       "      <td>54</td>\n",
       "    </tr>\n",
       "    <tr>\n",
       "      <th>2</th>\n",
       "      <td>Sur</td>\n",
       "      <td>296</td>\n",
       "      <td>74</td>\n",
       "    </tr>\n",
       "    <tr>\n",
       "      <th>3</th>\n",
       "      <td>Centro</td>\n",
       "      <td>252</td>\n",
       "      <td>48</td>\n",
       "    </tr>\n",
       "    <tr>\n",
       "      <th>4</th>\n",
       "      <td>Total</td>\n",
       "      <td>858</td>\n",
       "      <td>228</td>\n",
       "    </tr>\n",
       "  </tbody>\n",
       "</table>\n",
       "</div>"
      ],
      "text/plain": [
       "    Región   Sí   No\n",
       "0    Norte  148   52\n",
       "1  Noreste  162   54\n",
       "2      Sur  296   74\n",
       "3   Centro  252   48\n",
       "4    Total  858  228"
      ]
     },
     "execution_count": 12,
     "metadata": {},
     "output_type": "execute_result"
    }
   ],
   "source": [
    "'''3. La Agencia Nacional de Seguridad Vial realizó una investigación para saber si los \n",
    "conductores están usando sus cinturones de seguridad. Los datos muestrales fueron los siguientes:\n",
    "Conductores que emplean el cinturón:'''\n",
    "\n",
    "import pandas as pd\n",
    "\n",
    "tabla = {'Región': ['Norte', 'Noreste', 'Sur', 'Centro', 'Total'], 'Sí': [148,162,296,252,858], 'No': [52,54,74,48,228]}\n",
    "df = pd.DataFrame(tabla)\n",
    "df"
   ]
  },
  {
   "cell_type": "code",
   "execution_count": 15,
   "metadata": {},
   "outputs": [
    {
     "data": {
      "text/html": [
       "<div>\n",
       "<style scoped>\n",
       "    .dataframe tbody tr th:only-of-type {\n",
       "        vertical-align: middle;\n",
       "    }\n",
       "\n",
       "    .dataframe tbody tr th {\n",
       "        vertical-align: top;\n",
       "    }\n",
       "\n",
       "    .dataframe thead th {\n",
       "        text-align: right;\n",
       "    }\n",
       "</style>\n",
       "<table border=\"1\" class=\"dataframe\">\n",
       "  <thead>\n",
       "    <tr style=\"text-align: right;\">\n",
       "      <th></th>\n",
       "      <th>Región</th>\n",
       "      <th>Sí</th>\n",
       "      <th>No</th>\n",
       "    </tr>\n",
       "  </thead>\n",
       "  <tbody>\n",
       "    <tr>\n",
       "      <th>0</th>\n",
       "      <td>Norte</td>\n",
       "      <td>0.740000</td>\n",
       "      <td>0.260000</td>\n",
       "    </tr>\n",
       "    <tr>\n",
       "      <th>1</th>\n",
       "      <td>Noreste</td>\n",
       "      <td>0.750000</td>\n",
       "      <td>0.250000</td>\n",
       "    </tr>\n",
       "    <tr>\n",
       "      <th>2</th>\n",
       "      <td>Sur</td>\n",
       "      <td>0.800000</td>\n",
       "      <td>0.200000</td>\n",
       "    </tr>\n",
       "    <tr>\n",
       "      <th>3</th>\n",
       "      <td>Centro</td>\n",
       "      <td>0.840000</td>\n",
       "      <td>0.160000</td>\n",
       "    </tr>\n",
       "    <tr>\n",
       "      <th>4</th>\n",
       "      <td>Total</td>\n",
       "      <td>0.790055</td>\n",
       "      <td>0.209945</td>\n",
       "    </tr>\n",
       "  </tbody>\n",
       "</table>\n",
       "</div>"
      ],
      "text/plain": [
       "    Región        Sí        No\n",
       "0    Norte  0.740000  0.260000\n",
       "1  Noreste  0.750000  0.250000\n",
       "2      Sur  0.800000  0.200000\n",
       "3   Centro  0.840000  0.160000\n",
       "4    Total  0.790055  0.209945"
      ]
     },
     "execution_count": 15,
     "metadata": {},
     "output_type": "execute_result"
    }
   ],
   "source": [
    "'''a) ¿Qué metodo cree que se utilizo para asignar probabilidades?.\n",
    "Seguramente se utilizó el método de frecuencia relativa para asignar las probabilidades en cada caso\n",
    "b) Construya un cuadro similar, pero con la asignación de probabilidades.'''\n",
    "#Acá lo hago por región\n",
    "df_prob = pd.DataFrame()\n",
    "df_prob['Región'] = df['Región']\n",
    "df_prob['Sí'] = df['Sí'] / (df['Sí'] + df['No'])\n",
    "df_prob['No'] = df['No'] / (df['Sí'] + df['No'])\n",
    "\n",
    "df_prob"
   ]
  },
  {
   "cell_type": "code",
   "execution_count": 29,
   "metadata": {},
   "outputs": [
    {
     "data": {
      "text/html": [
       "<div>\n",
       "<style scoped>\n",
       "    .dataframe tbody tr th:only-of-type {\n",
       "        vertical-align: middle;\n",
       "    }\n",
       "\n",
       "    .dataframe tbody tr th {\n",
       "        vertical-align: top;\n",
       "    }\n",
       "\n",
       "    .dataframe thead th {\n",
       "        text-align: right;\n",
       "    }\n",
       "</style>\n",
       "<table border=\"1\" class=\"dataframe\">\n",
       "  <thead>\n",
       "    <tr style=\"text-align: right;\">\n",
       "      <th></th>\n",
       "      <th>Región</th>\n",
       "      <th>Sí</th>\n",
       "      <th>No</th>\n",
       "      <th>Total</th>\n",
       "    </tr>\n",
       "  </thead>\n",
       "  <tbody>\n",
       "    <tr>\n",
       "      <th>0</th>\n",
       "      <td>Norte</td>\n",
       "      <td>0.136280</td>\n",
       "      <td>0.047882</td>\n",
       "      <td>0.184162</td>\n",
       "    </tr>\n",
       "    <tr>\n",
       "      <th>1</th>\n",
       "      <td>Noreste</td>\n",
       "      <td>0.149171</td>\n",
       "      <td>0.049724</td>\n",
       "      <td>0.198895</td>\n",
       "    </tr>\n",
       "    <tr>\n",
       "      <th>2</th>\n",
       "      <td>Sur</td>\n",
       "      <td>0.272560</td>\n",
       "      <td>0.068140</td>\n",
       "      <td>0.340700</td>\n",
       "    </tr>\n",
       "    <tr>\n",
       "      <th>3</th>\n",
       "      <td>Centro</td>\n",
       "      <td>0.232044</td>\n",
       "      <td>0.044199</td>\n",
       "      <td>0.276243</td>\n",
       "    </tr>\n",
       "    <tr>\n",
       "      <th>4</th>\n",
       "      <td>Total</td>\n",
       "      <td>0.790055</td>\n",
       "      <td>0.209945</td>\n",
       "      <td>1.000000</td>\n",
       "    </tr>\n",
       "  </tbody>\n",
       "</table>\n",
       "</div>"
      ],
      "text/plain": [
       "    Región        Sí        No     Total\n",
       "0    Norte  0.136280  0.047882  0.184162\n",
       "1  Noreste  0.149171  0.049724  0.198895\n",
       "2      Sur  0.272560  0.068140  0.340700\n",
       "3   Centro  0.232044  0.044199  0.276243\n",
       "4    Total  0.790055  0.209945  1.000000"
      ]
     },
     "execution_count": 29,
     "metadata": {},
     "output_type": "execute_result"
    }
   ],
   "source": [
    "# Y acá sobre el total\n",
    "df_prob2 = df.copy()\n",
    "df_prob2['Total'] = df_prob2['Sí'] + df_prob2['No']\n",
    "df_prob2.iloc[:,1:4] = df_prob2.iloc[:,1:4].apply(lambda x: x/1086)\n",
    "df_prob2"
   ]
  },
  {
   "cell_type": "code",
   "execution_count": null,
   "metadata": {},
   "outputs": [],
   "source": [
    "'''d) Un año antes, la probabilidad en Argentina de que un conductor llevara puesto el cinturón era 0.75.\n",
    "El director de ANSV, se esperaba que la probabilidad llegara a 0.78. ¿Estará satisfecho con los resultados del estudio?\n",
    "\n",
    " --> La probabilidad de que un conductor use el cinturón de seguridad en Argentina es del 79%, así que debería estar satisfecho.'''"
   ]
  },
  {
   "cell_type": "code",
   "execution_count": null,
   "metadata": {},
   "outputs": [],
   "source": [
    "'''e) ¿Cuál es la probabilidad de que se use el cinturón en las distintas regiones del país? \n",
    "¿En qué región se usa más el cinturón?\n",
    "\n",
    "--> En el norte 74%, Noreste 75%, Sur 80% y Centro 84%. En el centro se usa más en cinturón'''"
   ]
  },
  {
   "cell_type": "code",
   "execution_count": 29,
   "metadata": {},
   "outputs": [
    {
     "data": {
      "text/plain": [
       "'La probabilidad de obtener una carta diamante es de 25.0%'"
      ]
     },
     "execution_count": 29,
     "metadata": {},
     "output_type": "execute_result"
    }
   ],
   "source": [
    "'''4. Crear una función que permita calcular la probabilidad de los siguientes eventos en un baraja de 52 cartas.\n",
    "- Obtener una carta roja.\n",
    "- Obtener una carta negra.\n",
    "- Obtener una pica.\n",
    "- Obtener un trébol.\n",
    "- Obtener un corazón.\n",
    "- Obtener un diamante.\n",
    "Usaré el método clásico de probabilidad, teniendo en cuenta el número de casos favorables y casos posibles'''\n",
    "\n",
    "def ProbCartas(carta):\n",
    "    '''Función que permite calcular la probabilidad de los siguientes eventos en un baraja de 52 cartas:\n",
    "    -Obtener una carta roja.\n",
    "    -Obtener una carta negra.\n",
    "    -Obtener una pica.\n",
    "    -Obtener un trébol.\n",
    "    -Obtener un corazón.\n",
    "    -Obtener un diamante.\n",
    "'''\n",
    "    options = ['roja', 'negra', 'pica', 'trébol', 'corazón', 'diamante']\n",
    "    total = 52\n",
    "\n",
    "    if carta in options:\n",
    "        if carta== 'roja' or carta=='negra':\n",
    "            return f'La probabilidad de obtener una carta {carta} es de {(26/total)*100}%'\n",
    "        \n",
    "        else:\n",
    "            return f'La probabilidad de obtener una carta {carta} es de {(13/total)*100}%'\n",
    "    else: \n",
    "        print('Ingrese un tipo de carta válida: [roja, negra, pica, trébol, corazón, diamante]')\n",
    "\n",
    "ProbCartas('diamante')\n",
    "\n"
   ]
  },
  {
   "cell_type": "code",
   "execution_count": 45,
   "metadata": {},
   "outputs": [
    {
     "data": {
      "text/plain": [
       "'La probabilidad de obtener un K es de 7.6923076923076925%'"
      ]
     },
     "execution_count": 45,
     "metadata": {},
     "output_type": "execute_result"
    }
   ],
   "source": [
    "# 5. La probabilidad de que salga un 7 o un 8 al seleccionar una carta de una baraja de las 52 cartas que contiene el mazo. \n",
    "\n",
    "def ProbCartasNum(carta1, carta2):\n",
    "    options = [i for i in range(2,14)]+['A', 'J', 'Q', 'K' ]\n",
    "    if (carta1 in options) and (carta2 in options):\n",
    "        if carta1 != carta2:\n",
    "            return f'La probabilidad de obtener un {carta1} o un {carta2} es de {((8/52)*100)}%'\n",
    "        else:\n",
    "            return f'La probabilidad de obtener un {carta1} es de {((4/52)*100)}%'\n",
    "\n",
    "    \n",
    "ProbCartasNum('K','K')\n",
    "    \n",
    "\n"
   ]
  },
  {
   "cell_type": "code",
   "execution_count": 46,
   "metadata": {},
   "outputs": [
    {
     "data": {
      "text/plain": [
       "'La probabilidad de que Angola gane el Mundial es de 0.03125'"
      ]
     },
     "execution_count": 46,
     "metadata": {},
     "output_type": "execute_result"
    }
   ],
   "source": [
    "# 6. La probabilidad de tu país gane el mundial de fútbol.\n",
    "\n",
    "def ProbMundial(pais):\n",
    "    return f'La probabilidad de que {pais} gane el Mundial es de {1/32}'\n",
    "\n",
    "ProbMundial('Angola')"
   ]
  },
  {
   "cell_type": "code",
   "execution_count": 1,
   "metadata": {},
   "outputs": [
    {
     "name": "stdout",
     "output_type": "stream",
     "text": [
      "0.4 0.26 0.34\n"
     ]
    }
   ],
   "source": [
    "# 7. Un experimento que tiene tres resultados es repetido 50 veces y se ve que E1 aparece 20 veces, \n",
    "# E2 13 veces y E3 17 veces. Asigne probabilidades a los resultados\n",
    "\n",
    "e1 = 20/50\n",
    "e2 = 13/50\n",
    "e3 = 17/50\n",
    "\n",
    "print(e1,e2,e3)"
   ]
  },
  {
   "cell_type": "code",
   "execution_count": 6,
   "metadata": {},
   "outputs": [
    {
     "name": "stdout",
     "output_type": "stream",
     "text": [
      "La probabilidad de que el primer cliente pague en efectivo, y el segundo\n",
      "con tarjeta de crédito es de 0.19\n",
      "La probabilidad de que dos clientes paguen en efectivo es de 0.16\n"
     ]
    }
   ],
   "source": [
    "### Desafíos complementarios \n",
    "\n",
    "# 1. Si la probabilidad de que un cliente pague en efectivo (E) es 6/15,\n",
    "# con tarjeta de crédito (TC) es 7/15 y con tarjeta de débito (TD) es 2/15. \n",
    "# Hallar la probabilidad de que dos clientes sucesivos que pagan sus cuentas lo hagan:\n",
    "# a) el primero en efectivo y el segundo con tarjeta de crédito.\n",
    "# b) Los dos clientes en efectivo\n",
    "\n",
    "E = 6/15\n",
    "TC = 7/15\n",
    "TD = 2/15\n",
    "\n",
    "# Son eventos independientes, por lo que se multiplican sus probabilidades\n",
    "prob_a = E * TC\n",
    "print(f'La probabilidad de que el primer cliente pague en efectivo, y el segundo\\ncon tarjeta de crédito es de {round(prob_a, 2)}')\n",
    "\n",
    "prob_b = E * E\n",
    "print(f'La probabilidad de que dos clientes paguen en efectivo es de {round(prob_b, 2)}')\n"
   ]
  },
  {
   "cell_type": "code",
   "execution_count": 32,
   "metadata": {},
   "outputs": [
    {
     "name": "stdout",
     "output_type": "stream",
     "text": [
      "La probabilidad de que apruebe al menos un módulo es de 0.84\n",
      "La probabilidad de que apruebe un solo módulo es de 0.44\n",
      "La probabilidad de que repruebe los 3 módulos es de 0.16\n"
     ]
    }
   ],
   "source": [
    "# 2. La probabilidad de que un Henry repruebe el M1 de 0.8, \n",
    "# de que apruebe M2 es 0.5 y de que repruebe el M3 es de 0.4.\n",
    "# (Los eventos no interfieren entre si)\n",
    "\n",
    "# Determinar la probabilidad de que:\n",
    "# a) Apruebe un módulo. --> Que apruebe el m1 o m2 o m3 o todos P(m1 U m2 U m3)\n",
    "# b) Repruebe las tres materias. --> Probabilidades independientes se multiplican P(m1) * P(m2) * P(m3)\n",
    "\n",
    "m1_rep = 0.8\n",
    "m1_apr = 0.2\n",
    "m2_rep = 0.5\n",
    "m2_apr = 0.5\n",
    "m3_rep = 0.4\n",
    "m3_apr = 0.6\n",
    "\n",
    "prob_a = (m1_apr*m2_rep*m3_rep) + (m1_rep*m2_apr*m3_rep) + (m1_rep*m2_rep*m3_apr)\n",
    "print(f'La probabilidad de que apruebe al menos un módulo es de {round(1-prob_b,2)}') # si es 1 modulo o mas\n",
    "print(f'La probabilidad de que apruebe un solo módulo es de {round(prob_a,2)}') # si es solo un módulo\n",
    "\n",
    "prob_b = m1_rep * m2_rep * m3_rep\n",
    "print(f'La probabilidad de que repruebe los 3 módulos es de {round(prob_b,2)}')\n"
   ]
  }
 ],
 "metadata": {
  "kernelspec": {
   "display_name": "base",
   "language": "python",
   "name": "python3"
  },
  "language_info": {
   "codemirror_mode": {
    "name": "ipython",
    "version": 3
   },
   "file_extension": ".py",
   "mimetype": "text/x-python",
   "name": "python",
   "nbconvert_exporter": "python",
   "pygments_lexer": "ipython3",
   "version": "3.10.10"
  },
  "orig_nbformat": 4
 },
 "nbformat": 4,
 "nbformat_minor": 2
}
