{
 "cells": [
  {
   "attachments": {},
   "cell_type": "markdown",
   "metadata": {},
   "source": [
    "## Homework <br> \n",
    "\n",
    "1. Considera el experimento que consiste en un empleado que arma un producto. ---> Variable continua\n",
    "  - a. Defina la variable aleatoria que represente el tiempo en minutos requerido para armar el producto. --> T(minutos)<br> \n",
    "  - b. ¿Qué valores toma la variable aleatoria? --> 0 < T < 1440 (un día entero)? <br>\n",
    "  - c. ¿Es una variable aleatoria discreta o continua? Depende, si se toman fracciones de minuto es continua, sino es discreta<br>\n",
    "2. Considera el experimento que consiste en lanzar una moneda dos veces. --> Variable discreta\n",
    "  - a. Enumere los resultados experimentales. {c:s, c:c, s:c, s:s}\n",
    "  - b. Defina una variable aleatoria que represente el número de caras en los dos lanzamientos. caras\n",
    "  - c. Dé el valor que la variable aleatoria tomará en cada uno de los resultados experimentales. {1:0,1:1,0:1,0:0}\n",
    "  - d. ¿Es una variable aleatoria discreta o continua? --> Discreta"
   ]
  },
  {
   "cell_type": "code",
   "execution_count": 9,
   "metadata": {},
   "outputs": [
    {
     "name": "stdout",
     "output_type": "stream",
     "text": [
      "b) La probabilidad de que dos de los próximos tres clientes realicen una compra es de 0.189\n",
      "c) La probabilidad de que cuatro de los próximos diez clientes realicen una compra es de 0.2001\n"
     ]
    }
   ],
   "source": [
    "''' \n",
    "3. Considera las decisiones de compra de los próximos tres clientes que lleguen a la tienda de ropa Martin Clothing Store. \n",
    "De acuerdo con la experiencia, el gerente de la tienda estima que la probabilidad de que un cliente realice una compra es 0.30.  ----> Binomial? \n",
    "  - a. Describa si cumple con las reglas para clasificarlo como un experimiento binomial. -- Sí --\n",
    "        - Consiste en una serie de n ensayos idénticos - Sí\n",
    "        - En cada ensayo hay dos resultados posibles: éxito/fracaso - Sí compra/no compra\n",
    "        - La probabilidad de éxito o fracaso no cambia de un ensayo a otro - Sí \n",
    "        - Los ensayos son independientes - Sí, creo, cada cliente no en influenciado ni dependiente del anterior\n",
    "  - b. ¿Cuál es la probabilidad de que dos de los próximos tres clientes realicen una compra?\n",
    "  - c. ¿Cuál es la probabilidad de que cuatro de los próximos diez clientes realicen una compra?'''\n",
    "\n",
    "\n",
    "'''b. p = probabilidad de éxito\n",
    "      q = probabilidad de fracaso\n",
    "      n = espacio muestral\n",
    "      k = número de éxitos'''\n",
    "\n",
    "from scipy.stats import binom\n",
    "\n",
    "#Defino los parámetros de la distribución binomial\n",
    "p = 0.30\n",
    "q = 1 - p\n",
    "n = 3\n",
    "k = 2\n",
    "\n",
    "#Creo un objeto de dist binomial con el número de intentos o espacio muestral y la probabilidad de éxito\n",
    "binomial_dist = binom(n,p)\n",
    "\n",
    "#Calculo la función de probabilidad para el número de exitos en cuestión con el método .pmf(k) \"Probability Mass Function\"\n",
    "prob_k = binomial_dist.pmf(k)\n",
    "\n",
    "print(f'b) La probabilidad de que dos de los próximos tres clientes realicen una compra es de {prob_k}')\n",
    "\n",
    "#c.\n",
    "n2 = 10\n",
    "k2 = 4\n",
    "\n",
    "binomial_dist2 = binom(n2,p)\n",
    "prob_k2 = binomial_dist2.pmf(k2)\n",
    "print(f'c) La probabilidad de que cuatro de los próximos diez clientes realicen una compra es de {round(prob_k2,4)}')\n"
   ]
  },
  {
   "cell_type": "code",
   "execution_count": 36,
   "metadata": {},
   "outputs": [
    {
     "name": "stdout",
     "output_type": "stream",
     "text": [
      "a) La probabilidad de recibir cinco llamdas en un lapso de cinco minutos es de 0.156\n",
      "b) La probabilidad de recibir 10 llamadas en un lapso de 15 minutos es de 0.105\n",
      "c) El número de llamadas esperadas en un lapso de cinco minutos es de 4.0\n",
      "c) La probabilidad de que no haya llamadas en espera después de cinco minutos es de 0.018\n",
      "d) La probabilidad de que el agente pueda descansar tres minutos sin recibir una llamada es de 0.091\n"
     ]
    }
   ],
   "source": [
    "''' 4.  A la oficina de reservaciones de una aerolínea regional llegan 48 llamadas por hora. ---> Poisson\n",
    "- a. Calcule la probabilidad de recibir cinco llamadas en un lapso de 5 minutos.\n",
    "- b. Estime la probabilidad de recibir exactamente 10 llamadas en un lapso de 15 minutos.\n",
    "- c. Suponga que no hay ninguna llamada en espera. Si el agente de viajes necesitará 5 minutos para la llamada \n",
    "    que está atendiendo, ¿cuántas llamadas habrá en espera para cuando él termine? \n",
    "    ¿Cuál es la probabilidad de que no haya ninguna llamada en espera?\n",
    "- d. Si en este momento no hay ninguna llamada, ¿cuál es la probabilidad de que el agente de viajes \n",
    "    pueda tomar 3 minutos de descanso sin ser interrumpido por una llamada?\n",
    "'''\n",
    "\n",
    "''' mu = valor esperado o número medio de ocurrencias en un intervalo\n",
    "    k = número de ocurrencias cuya probabilidad se quiere evaluar'''\n",
    "\n",
    "from scipy.stats import poisson\n",
    "#a.\n",
    "#Defino los parámetros para la distribución\n",
    "mu = (48/60) * 5 #Lo divido entre 60 para convertir la media en minutos y multiplo por 5 minutos que pide el ejercicio\n",
    "\n",
    "#Creo un objeto de distribución poisson con la mu de interés\n",
    "poisson_dist = poisson(mu)\n",
    "\n",
    "#Calculo la probabilidad de k sucesos (5 llamadas) con el método .pmf(k)\n",
    "k = 5\n",
    "prob_k = poisson_dist.pmf(k)\n",
    "print(f'a) La probabilidad de recibir cinco llamdas en un lapso de cinco minutos es de {round(prob_k,3)}')\n",
    "\n",
    "\n",
    "#b. \n",
    "mu_b = (48/60) * 15 #15 minutos\n",
    "poisson_dist_b = poisson(mu_b)\n",
    "k_b = 10 #10 llamadas\n",
    "prob_kb = poisson_dist_b.pmf(k_b)\n",
    "print(f'b) La probabilidad de recibir 10 llamadas en un lapso de 15 minutos es de {round(prob_kb,3)}')\n",
    "\n",
    "\n",
    "#c. \n",
    "mu_c = (48/60)\n",
    "time = 5\n",
    "k_c = mu_c * time\n",
    "print(f'c) El número de llamadas esperadas en un lapso de cinco minutos es de {round(k_c,3)}')\n",
    "poisson_dist_c = poisson(mu_c*time) # Promedio esperado en 5 minutos\n",
    "prob_kc = poisson_dist_c.pmf(0) #k = 0 llamadas en esos 5 minutos\n",
    "print(f'c) La probabilidad de que no haya llamadas en espera después de cinco minutos es de {round(prob_kc,3)}')\n",
    "\n",
    "#d. \n",
    "mu_d = (48/60) * 3 #3 minutos de descanso\n",
    "poisson_dist_d = poisson(mu_d)\n",
    "k_d = 0 # cero llamadas en esos 3 minutos\n",
    "prob_kd = poisson_dist_d.pmf(k_d)\n",
    "print(f'd) La probabilidad de que el agente pueda descansar tres minutos sin recibir una llamada es de {round(prob_kd,3)}')"
   ]
  },
  {
   "cell_type": "code",
   "execution_count": 38,
   "metadata": {},
   "outputs": [
    {
     "name": "stdout",
     "output_type": "stream",
     "text": [
      "a) La probabilidad de que dos personas de la muestra prefieran el fútbol es de 0.525\n",
      "b) La probabilidad de que a la mayoría le guste el fútbol es de 0.817\n"
     ]
    }
   ],
   "source": [
    "''' 5. En una encuesta realizada por Gallup Organization, se les preguntó a los interrogados, \n",
    "    “Cuál es el deporte que prefieres ver”. Futbol y básquetbol ocuparon el primero y segundo lugar \n",
    "    de preferencia (www.gallup.com, 3 de enero de 2004).\n",
    "    Si en un grupo de 10 individuos, siete prefieren futbol y tres prefieren básquetbol. \n",
    "    Se toma una muestra aleatoria de tres de estas personas. ---> Hipergeométrica\n",
    "\n",
    "- a. ¿Cuál es la probabilidad de que exactamente dos prefieren el futbol?\n",
    "- b. ¿De que la mayoría (ya sean dos o tres) prefiere el futbol?\n",
    "'''\n",
    "''' \n",
    "N = Total items en la población\n",
    "K = Total items de interés en la población\n",
    "n = Número de items muestreados de la población\n",
    "k = Número de items de interés en la muestra'''\n",
    "\n",
    "from scipy.stats import hypergeom\n",
    "\n",
    "#Definimos los parámetros de la distribución hipergeométrica\n",
    "N = 10 # 10 encuestados\n",
    "K = 7  # 7 prefieres fútbol\n",
    "n = 3  # muestra aleatoria de 3 personas\n",
    "k = 2  # que 2 de esas prefieran el fútbol\n",
    "\n",
    "#Creo un objeto de distribución hipergeométrica con los parámetros de \n",
    "# Total población (K), Total items de interés (K) y muestra (n)\n",
    "hyper_dist = hypergeom(N, K, n)\n",
    "\n",
    "#Calculo la func¡ón de probabilidad con el método .pmf(k)\n",
    "prob_k = hyper_dist.pmf(k)\n",
    "\n",
    "print(f'a) La probabilidad de que dos personas de la muestra prefieran el fútbol es de {round(prob_k,3)}')\n",
    "\n",
    "#b. cumulative probability restando la de k=1 o suma de probabilidades k=2 + k=3\n",
    "prob = hyper_dist.pmf(2) + hyper_dist.pmf(3)\n",
    "print(f'b) La probabilidad de que a la mayoría le guste el fútbol es de {round(prob,3)}')\n"
   ]
  },
  {
   "cell_type": "code",
   "execution_count": 24,
   "metadata": {},
   "outputs": [
    {
     "name": "stdout",
     "output_type": "stream",
     "text": [
      "La probabilidad de que a 6 de 10 estudiantes les guste el módulo de Henry es de 0.2\n"
     ]
    }
   ],
   "source": [
    "''' 6. La probabilidad de que a un estudiante le guste este módulo es de 0.7 (en Henry somos optimistas), \n",
    "cual es la probabilidad de que les guste este módulo a 6 de los 10 estudiantes. ---> Binomial\n",
    "'''\n",
    "\n",
    "p = 0.7\n",
    "n = 10\n",
    "k = 6\n",
    "\n",
    "binom_dist = binom(n,p)\n",
    "prob_k = binom_dist.pmf(k)\n",
    "\n",
    "print(f'La probabilidad de que a 6 de 10 estudiantes les guste el módulo de Henry es de {round(prob_k,3)}')"
   ]
  },
  {
   "cell_type": "code",
   "execution_count": 25,
   "metadata": {},
   "outputs": [
    {
     "name": "stdout",
     "output_type": "stream",
     "text": [
      "La probabilidad de que 7 de 9 push lleguen a término es de 0.172\n"
     ]
    }
   ],
   "source": [
    "'''7. De todos los push a Git en un Henry Challenge, el 90% lo envía a término. \n",
    "Si se envían 9 ¿cuál es la probabilidad de que 7 lleguen a término?. ---> Binomial\n",
    "'''\n",
    "\n",
    "p = 0.9\n",
    "n = 9\n",
    "k = 7\n",
    "\n",
    "binom_dist = binom(n,p)\n",
    "prob_k = binom_dist.pmf(k)\n",
    "print(f'La probabilidad de que 7 de 9 push lleguen a término es de {round(prob_k,3)}')\n"
   ]
  },
  {
   "cell_type": "code",
   "execution_count": 28,
   "metadata": {},
   "outputs": [
    {
     "name": "stdout",
     "output_type": "stream",
     "text": [
      "La probabilidad de que 7 o más push lleguen a término es de 0.947\n"
     ]
    }
   ],
   "source": [
    "'''8. En relación con el enunciado anterior cálcule la probabilidad de que 7 o más lleguen a término.'''\n",
    "\n",
    "p = 0.9\n",
    "n = 9\n",
    "k = 7 #or greater\n",
    "\n",
    "#Calcularé la probabilidad acumulada de k-1 (.cdf(k-1) y el el resultado se lo resto a 1 para obtener la prob de que k sea 7 o mayor.\n",
    "\n",
    "binom_dist = binom(n,p)\n",
    "prob_cum = binom_dist.cdf(k-1)\n",
    "prob_k_og = 1 - prob_cum\n",
    "\n",
    "print(f'La probabilidad de que 7 o más push lleguen a término es de {round(prob_k_og,3)}')"
   ]
  },
  {
   "cell_type": "code",
   "execution_count": 32,
   "metadata": {},
   "outputs": [
    {
     "name": "stdout",
     "output_type": "stream",
     "text": [
      "La probabilidad de que se ausenten 7 alumnos es de 0.09\n"
     ]
    }
   ],
   "source": [
    "''' 9. La cantidad de alumnos promedio que se ausentan en un día de clases en la carrera de Data Science es de 10.\n",
    "     Calcular cual es la probabilidad de que se ausenten 7 alumnos.---> Poisson?'''\n",
    "\n",
    "mu = 10\n",
    "k = 7\n",
    "\n",
    "poisson_dist = poisson(mu)\n",
    "prob_k = poisson_dist.pmf(k)\n",
    "\n",
    "print(f'La probabilidad de que se ausenten 7 alumnos es de {round(prob_k,3)}')"
   ]
  },
  {
   "cell_type": "code",
   "execution_count": 33,
   "metadata": {},
   "outputs": [
    {
     "name": "stdout",
     "output_type": "stream",
     "text": [
      "La probabilidad de que entren 7 estudiantes por minuto a clase es de 0.104\n"
     ]
    }
   ],
   "source": [
    "'''10. Cuando inicia una clase, los estudiantes ingresan a un ritmo de 5 estudiantes por minuto. \n",
    "    Calcular cual es la probabilidad de que ingresen 7 estudiantes por minuto. ---> Poisson? '''\n",
    "\n",
    "mu = 5\n",
    "k = 7\n",
    "\n",
    "poisson_dist = poisson(mu)\n",
    "prob_k = poisson_dist.pmf(k)\n",
    "\n",
    "print(f'La probabilidad de que entren 7 estudiantes por minuto a clase es de {round(prob_k,3)}')"
   ]
  }
 ],
 "metadata": {
  "kernelspec": {
   "display_name": "base",
   "language": "python",
   "name": "python3"
  },
  "language_info": {
   "codemirror_mode": {
    "name": "ipython",
    "version": 3
   },
   "file_extension": ".py",
   "mimetype": "text/x-python",
   "name": "python",
   "nbconvert_exporter": "python",
   "pygments_lexer": "ipython3",
   "version": "3.10.10"
  },
  "orig_nbformat": 4
 },
 "nbformat": 4,
 "nbformat_minor": 2
}
