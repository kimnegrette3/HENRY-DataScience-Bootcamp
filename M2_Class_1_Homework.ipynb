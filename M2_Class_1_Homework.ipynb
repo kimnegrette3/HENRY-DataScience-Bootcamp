{
 "cells": [
  {
   "attachments": {},
   "cell_type": "markdown",
   "metadata": {},
   "source": [
    "## Homework\n",
    "\n",
    "1. Considere el siguiente areglo que contiene la altura de un grupo de estudiantes de Henry y cálcule:\n",
    "\n",
    "```python\n",
    "muestra = np.array( [[1.85, 1.8, 1.8 , 1.8],\n",
    "                    [1.73,  1.7, 1.75, 1.76],\n",
    "                    [ 1.65, 1.69,  1.67 ,  1.6],\n",
    "                    [1.54,  1.57, 1.58, 1.59],\n",
    "                    [ 1.4 , 1.42,  1.45, 1.48]]) \n",
    "```\n",
    "- Media.\n",
    "- Mediana.\n",
    "- Moda\n",
    "- Varianza\n",
    "- Desvío estándar.\n",
    "\n",
    "2. Convierta el arreglo en una lista y realice un Histograma de 5 intervalos. ¿Tiene distribución normal?.\n",
    "3. Utilizando pandas describa el dataframe.\n",
    "4. Con los siguientes datos construye un df y un array que permitan describir adecuadamente la muestra.<br>\n",
    "'Ingreso en miles' : 10.5\t6.8\t20.7\t18.2\t8.6\t25.8\t22.2\t5.9\t7.6\t11.8 <br>\n",
    "'Años de estudio': 17\t18\t21\t16\t16\t21\t16\t14\t18\t18 <br>\n",
    "5. Realice un histograma para de 6 secciones para 'Ingreso en miles' y 'Años de estudio'.\n",
    "6. Cálcula la media de 'Ingreso en miles' (df) utilizando pandas.\n",
    "7. Cálcula la media de 'Ingreso en miles' (array) utilizando numpy.\n",
    "8. Agregue los siguientes valores extremos al df [ 50, 35 ], [ 120, 30 ]. ¿En cuanto vario la media?, ¿Qué conclusiones obtiene de este resultado sobre la media?."
   ]
  },
  {
   "cell_type": "code",
   "execution_count": 2,
   "metadata": {},
   "outputs": [],
   "source": [
    "import numpy as np\n",
    "import pandas as pd\n",
    "import matplotlib.pyplot as plt\n",
    "from scipy import stats"
   ]
  },
  {
   "cell_type": "code",
   "execution_count": 3,
   "metadata": {},
   "outputs": [],
   "source": [
    "muestra = np.array( [[1.85, 1.8, 1.8 , 1.8],\n",
    "                    [1.73,  1.7, 1.75, 1.76],\n",
    "                    [ 1.65, 1.69,  1.67 ,  1.6],\n",
    "                    [1.54,  1.57, 1.58, 1.59],\n",
    "                    [ 1.4 , 1.42,  1.45, 1.48]]) "
   ]
  },
  {
   "cell_type": "code",
   "execution_count": 6,
   "metadata": {},
   "outputs": [
    {
     "name": "stdout",
     "output_type": "stream",
     "text": [
      "Media: 1.64\n",
      "Mediana: 1.66\n",
      "Moda: 1.8\n",
      "Varianza: 0.02\n",
      "Desviación estándar: 0.14\n",
      "Coeficiente de variación 8.09 %\n"
     ]
    }
   ],
   "source": [
    "#media\n",
    "print(f'Media: {np.mean(muestra).round(2)}')\n",
    "\n",
    "#mediana\n",
    "print(f'Mediana: {np.median(muestra).round(2)}')\n",
    "\n",
    "#moda\n",
    "print(f'Moda: {stats.mode(muestra.flatten(), keepdims=False)[0]}')\n",
    "\n",
    "#varianza\n",
    "print(f'Varianza: {np.var(muestra).round(2)}')\n",
    "\n",
    "#Desviación estándar \n",
    "print(f'Desviación estándar: {np.std(muestra, ddof=1).round(2)}')\n",
    "\n",
    "#Coeficiente de variación\n",
    "print(f'Coeficiente de variación {(np.std(muestra) / np.mean(muestra) *100).round(2)} %')"
   ]
  },
  {
   "cell_type": "code",
   "execution_count": 8,
   "metadata": {},
   "outputs": [
    {
     "name": "stdout",
     "output_type": "stream",
     "text": [
      "[1.85, 1.8, 1.8, 1.8, 1.73, 1.7, 1.75, 1.76, 1.65, 1.69, 1.67, 1.6, 1.54, 1.57, 1.58, 1.59, 1.4, 1.42, 1.45, 1.48]\n"
     ]
    }
   ],
   "source": [
    "#Convertir el arreglo en lista. histograma 5 bins\n",
    "lista = list(muestra.flatten())\n",
    "#lista =  muestra.flatten().tolist()\n",
    "print(lista)"
   ]
  },
  {
   "cell_type": "code",
   "execution_count": 12,
   "metadata": {},
   "outputs": [
    {
     "data": {
      "image/png": "[encoded data removed]",
      "text/plain": [
       "<Figure size 640x480 with 1 Axes>"
      ]
     },
     "metadata": {},
     "output_type": "display_data"
    }
   ],
   "source": [
    "plt.hist(lista, bins=5, rwidth=0.9)\n",
    "plt.title('Histograma Altura alumnos')\n",
    "plt.xlabel('Altura en metros')\n",
    "plt.ylabel('Frecuencia')\n",
    "plt.show()"
   ]
  },
  {
   "cell_type": "code",
   "execution_count": 24,
   "metadata": {},
   "outputs": [
    {
     "data": {
      "text/html": [
       "<div>\n",
       "<style scoped>\n",
       "    .dataframe tbody tr th:only-of-type {\n",
       "        vertical-align: middle;\n",
       "    }\n",
       "\n",
       "    .dataframe tbody tr th {\n",
       "        vertical-align: top;\n",
       "    }\n",
       "\n",
       "    .dataframe thead th {\n",
       "        text-align: right;\n",
       "    }\n",
       "</style>\n",
       "<table border=\"1\" class=\"dataframe\">\n",
       "  <thead>\n",
       "    <tr style=\"text-align: right;\">\n",
       "      <th></th>\n",
       "      <th>col1</th>\n",
       "      <th>col2</th>\n",
       "      <th>col3</th>\n",
       "      <th>col4</th>\n",
       "    </tr>\n",
       "  </thead>\n",
       "  <tbody>\n",
       "    <tr>\n",
       "      <th>0</th>\n",
       "      <td>1.85</td>\n",
       "      <td>1.80</td>\n",
       "      <td>1.80</td>\n",
       "      <td>1.80</td>\n",
       "    </tr>\n",
       "    <tr>\n",
       "      <th>1</th>\n",
       "      <td>1.73</td>\n",
       "      <td>1.70</td>\n",
       "      <td>1.75</td>\n",
       "      <td>1.76</td>\n",
       "    </tr>\n",
       "    <tr>\n",
       "      <th>2</th>\n",
       "      <td>1.65</td>\n",
       "      <td>1.69</td>\n",
       "      <td>1.67</td>\n",
       "      <td>1.60</td>\n",
       "    </tr>\n",
       "    <tr>\n",
       "      <th>3</th>\n",
       "      <td>1.54</td>\n",
       "      <td>1.57</td>\n",
       "      <td>1.58</td>\n",
       "      <td>1.59</td>\n",
       "    </tr>\n",
       "    <tr>\n",
       "      <th>4</th>\n",
       "      <td>1.40</td>\n",
       "      <td>1.42</td>\n",
       "      <td>1.45</td>\n",
       "      <td>1.48</td>\n",
       "    </tr>\n",
       "  </tbody>\n",
       "</table>\n",
       "</div>"
      ],
      "text/plain": [
       "   col1  col2  col3  col4\n",
       "0  1.85  1.80  1.80  1.80\n",
       "1  1.73  1.70  1.75  1.76\n",
       "2  1.65  1.69  1.67  1.60\n",
       "3  1.54  1.57  1.58  1.59\n",
       "4  1.40  1.42  1.45  1.48"
      ]
     },
     "execution_count": 24,
     "metadata": {},
     "output_type": "execute_result"
    }
   ],
   "source": [
    "#Describa el dataframe usando pandas\n",
    "df_muestra = pd.DataFrame(muestra, columns=['col1', 'col2', 'col3', 'col4'])\n",
    "df_muestra"
   ]
  },
  {
   "cell_type": "code",
   "execution_count": 25,
   "metadata": {},
   "outputs": [
    {
     "data": {
      "text/html": [
       "<div>\n",
       "<style scoped>\n",
       "    .dataframe tbody tr th:only-of-type {\n",
       "        vertical-align: middle;\n",
       "    }\n",
       "\n",
       "    .dataframe tbody tr th {\n",
       "        vertical-align: top;\n",
       "    }\n",
       "\n",
       "    .dataframe thead th {\n",
       "        text-align: right;\n",
       "    }\n",
       "</style>\n",
       "<table border=\"1\" class=\"dataframe\">\n",
       "  <thead>\n",
       "    <tr style=\"text-align: right;\">\n",
       "      <th></th>\n",
       "      <th>col1</th>\n",
       "      <th>col2</th>\n",
       "      <th>col3</th>\n",
       "      <th>col4</th>\n",
       "    </tr>\n",
       "  </thead>\n",
       "  <tbody>\n",
       "    <tr>\n",
       "      <th>count</th>\n",
       "      <td>5.000000</td>\n",
       "      <td>5.000000</td>\n",
       "      <td>5.000000</td>\n",
       "      <td>5.000000</td>\n",
       "    </tr>\n",
       "    <tr>\n",
       "      <th>mean</th>\n",
       "      <td>1.634000</td>\n",
       "      <td>1.636000</td>\n",
       "      <td>1.650000</td>\n",
       "      <td>1.646000</td>\n",
       "    </tr>\n",
       "    <tr>\n",
       "      <th>std</th>\n",
       "      <td>0.173003</td>\n",
       "      <td>0.145705</td>\n",
       "      <td>0.139463</td>\n",
       "      <td>0.131833</td>\n",
       "    </tr>\n",
       "    <tr>\n",
       "      <th>min</th>\n",
       "      <td>1.400000</td>\n",
       "      <td>1.420000</td>\n",
       "      <td>1.450000</td>\n",
       "      <td>1.480000</td>\n",
       "    </tr>\n",
       "    <tr>\n",
       "      <th>25%</th>\n",
       "      <td>1.540000</td>\n",
       "      <td>1.570000</td>\n",
       "      <td>1.580000</td>\n",
       "      <td>1.590000</td>\n",
       "    </tr>\n",
       "    <tr>\n",
       "      <th>50%</th>\n",
       "      <td>1.650000</td>\n",
       "      <td>1.690000</td>\n",
       "      <td>1.670000</td>\n",
       "      <td>1.600000</td>\n",
       "    </tr>\n",
       "    <tr>\n",
       "      <th>75%</th>\n",
       "      <td>1.730000</td>\n",
       "      <td>1.700000</td>\n",
       "      <td>1.750000</td>\n",
       "      <td>1.760000</td>\n",
       "    </tr>\n",
       "    <tr>\n",
       "      <th>max</th>\n",
       "      <td>1.850000</td>\n",
       "      <td>1.800000</td>\n",
       "      <td>1.800000</td>\n",
       "      <td>1.800000</td>\n",
       "    </tr>\n",
       "  </tbody>\n",
       "</table>\n",
       "</div>"
      ],
      "text/plain": [
       "           col1      col2      col3      col4\n",
       "count  5.000000  5.000000  5.000000  5.000000\n",
       "mean   1.634000  1.636000  1.650000  1.646000\n",
       "std    0.173003  0.145705  0.139463  0.131833\n",
       "min    1.400000  1.420000  1.450000  1.480000\n",
       "25%    1.540000  1.570000  1.580000  1.590000\n",
       "50%    1.650000  1.690000  1.670000  1.600000\n",
       "75%    1.730000  1.700000  1.750000  1.760000\n",
       "max    1.850000  1.800000  1.800000  1.800000"
      ]
     },
     "execution_count": 25,
     "metadata": {},
     "output_type": "execute_result"
    }
   ],
   "source": [
    "df_muestra.describe()"
   ]
  },
  {
   "cell_type": "code",
   "execution_count": 14,
   "metadata": {},
   "outputs": [
    {
     "data": {
      "text/plain": [
       "array([[10.5,  6.8, 20.7, 18.2,  8.6, 25.8, 22.2,  5.9,  7.6, 11.8],\n",
       "       [17. , 18. , 21. , 16. , 16. , 21. , 16. , 14. , 18. , 18. ]])"
      ]
     },
     "execution_count": 14,
     "metadata": {},
     "output_type": "execute_result"
    }
   ],
   "source": [
    "# Con los siguientes datos construye un df y un array que permitan describir adecuadamente la muestra\n",
    "Ingreso_miles = [10.5, 6.8, 20.7, 18.2, 8.6, 25.8, 22.2, 5.9, 7.6, 11.8]\n",
    "Años_estudio = [17, 18, 21, 16, 16, 21, 16, 14, 18, 18] \n",
    "array = np.array([Ingreso_miles, Años_estudio])\n",
    "array"
   ]
  },
  {
   "cell_type": "code",
   "execution_count": 16,
   "metadata": {},
   "outputs": [
    {
     "name": "stdout",
     "output_type": "stream",
     "text": [
      "[[10.5 17. ]\n",
      " [ 6.8 18. ]\n",
      " [20.7 21. ]\n",
      " [18.2 16. ]\n",
      " [ 8.6 16. ]\n",
      " [25.8 21. ]\n",
      " [22.2 16. ]\n",
      " [ 5.9 14. ]\n",
      " [ 7.6 18. ]\n",
      " [11.8 18. ]]\n"
     ]
    }
   ],
   "source": [
    "arrayT = np.transpose(array)\n",
    "print(arrayT)"
   ]
  },
  {
   "cell_type": "code",
   "execution_count": 17,
   "metadata": {},
   "outputs": [
    {
     "data": {
      "text/html": [
       "<div>\n",
       "<style scoped>\n",
       "    .dataframe tbody tr th:only-of-type {\n",
       "        vertical-align: middle;\n",
       "    }\n",
       "\n",
       "    .dataframe tbody tr th {\n",
       "        vertical-align: top;\n",
       "    }\n",
       "\n",
       "    .dataframe thead th {\n",
       "        text-align: right;\n",
       "    }\n",
       "</style>\n",
       "<table border=\"1\" class=\"dataframe\">\n",
       "  <thead>\n",
       "    <tr style=\"text-align: right;\">\n",
       "      <th></th>\n",
       "      <th>Ingreso_miles</th>\n",
       "      <th>Años_estudio</th>\n",
       "    </tr>\n",
       "  </thead>\n",
       "  <tbody>\n",
       "    <tr>\n",
       "      <th>0</th>\n",
       "      <td>10.5</td>\n",
       "      <td>17.0</td>\n",
       "    </tr>\n",
       "    <tr>\n",
       "      <th>1</th>\n",
       "      <td>6.8</td>\n",
       "      <td>18.0</td>\n",
       "    </tr>\n",
       "    <tr>\n",
       "      <th>2</th>\n",
       "      <td>20.7</td>\n",
       "      <td>21.0</td>\n",
       "    </tr>\n",
       "    <tr>\n",
       "      <th>3</th>\n",
       "      <td>18.2</td>\n",
       "      <td>16.0</td>\n",
       "    </tr>\n",
       "    <tr>\n",
       "      <th>4</th>\n",
       "      <td>8.6</td>\n",
       "      <td>16.0</td>\n",
       "    </tr>\n",
       "    <tr>\n",
       "      <th>5</th>\n",
       "      <td>25.8</td>\n",
       "      <td>21.0</td>\n",
       "    </tr>\n",
       "    <tr>\n",
       "      <th>6</th>\n",
       "      <td>22.2</td>\n",
       "      <td>16.0</td>\n",
       "    </tr>\n",
       "    <tr>\n",
       "      <th>7</th>\n",
       "      <td>5.9</td>\n",
       "      <td>14.0</td>\n",
       "    </tr>\n",
       "    <tr>\n",
       "      <th>8</th>\n",
       "      <td>7.6</td>\n",
       "      <td>18.0</td>\n",
       "    </tr>\n",
       "    <tr>\n",
       "      <th>9</th>\n",
       "      <td>11.8</td>\n",
       "      <td>18.0</td>\n",
       "    </tr>\n",
       "  </tbody>\n",
       "</table>\n",
       "</div>"
      ],
      "text/plain": [
       "   Ingreso_miles  Años_estudio\n",
       "0           10.5          17.0\n",
       "1            6.8          18.0\n",
       "2           20.7          21.0\n",
       "3           18.2          16.0\n",
       "4            8.6          16.0\n",
       "5           25.8          21.0\n",
       "6           22.2          16.0\n",
       "7            5.9          14.0\n",
       "8            7.6          18.0\n",
       "9           11.8          18.0"
      ]
     },
     "execution_count": 17,
     "metadata": {},
     "output_type": "execute_result"
    }
   ],
   "source": [
    "df_a = pd.DataFrame(arrayT, columns=['Ingreso_miles', 'Años_estudio'])\n",
    "df_a"
   ]
  },
  {
   "cell_type": "code",
   "execution_count": 18,
   "metadata": {},
   "outputs": [
    {
     "data": {
      "text/html": [
       "<div>\n",
       "<style scoped>\n",
       "    .dataframe tbody tr th:only-of-type {\n",
       "        vertical-align: middle;\n",
       "    }\n",
       "\n",
       "    .dataframe tbody tr th {\n",
       "        vertical-align: top;\n",
       "    }\n",
       "\n",
       "    .dataframe thead th {\n",
       "        text-align: right;\n",
       "    }\n",
       "</style>\n",
       "<table border=\"1\" class=\"dataframe\">\n",
       "  <thead>\n",
       "    <tr style=\"text-align: right;\">\n",
       "      <th></th>\n",
       "      <th>Años_estudio</th>\n",
       "      <th>Ingreso_miles</th>\n",
       "    </tr>\n",
       "  </thead>\n",
       "  <tbody>\n",
       "    <tr>\n",
       "      <th>0</th>\n",
       "      <td>17</td>\n",
       "      <td>10.5</td>\n",
       "    </tr>\n",
       "    <tr>\n",
       "      <th>1</th>\n",
       "      <td>18</td>\n",
       "      <td>6.8</td>\n",
       "    </tr>\n",
       "    <tr>\n",
       "      <th>2</th>\n",
       "      <td>21</td>\n",
       "      <td>20.7</td>\n",
       "    </tr>\n",
       "    <tr>\n",
       "      <th>3</th>\n",
       "      <td>16</td>\n",
       "      <td>18.2</td>\n",
       "    </tr>\n",
       "    <tr>\n",
       "      <th>4</th>\n",
       "      <td>16</td>\n",
       "      <td>8.6</td>\n",
       "    </tr>\n",
       "    <tr>\n",
       "      <th>5</th>\n",
       "      <td>21</td>\n",
       "      <td>25.8</td>\n",
       "    </tr>\n",
       "    <tr>\n",
       "      <th>6</th>\n",
       "      <td>16</td>\n",
       "      <td>22.2</td>\n",
       "    </tr>\n",
       "    <tr>\n",
       "      <th>7</th>\n",
       "      <td>14</td>\n",
       "      <td>5.9</td>\n",
       "    </tr>\n",
       "    <tr>\n",
       "      <th>8</th>\n",
       "      <td>18</td>\n",
       "      <td>7.6</td>\n",
       "    </tr>\n",
       "    <tr>\n",
       "      <th>9</th>\n",
       "      <td>18</td>\n",
       "      <td>11.8</td>\n",
       "    </tr>\n",
       "  </tbody>\n",
       "</table>\n",
       "</div>"
      ],
      "text/plain": [
       "   Años_estudio  Ingreso_miles\n",
       "0            17           10.5\n",
       "1            18            6.8\n",
       "2            21           20.7\n",
       "3            16           18.2\n",
       "4            16            8.6\n",
       "5            21           25.8\n",
       "6            16           22.2\n",
       "7            14            5.9\n",
       "8            18            7.6\n",
       "9            18           11.8"
      ]
     },
     "execution_count": 18,
     "metadata": {},
     "output_type": "execute_result"
    }
   ],
   "source": [
    "df = pd.DataFrame({'Años_estudio':Años_estudio, 'Ingreso_miles': Ingreso_miles})\n",
    "df"
   ]
  },
  {
   "cell_type": "code",
   "execution_count": 40,
   "metadata": {},
   "outputs": [
    {
     "data": {
      "text/plain": [
       "Text(0, 0.5, 'Frecuencia')"
      ]
     },
     "execution_count": 40,
     "metadata": {},
     "output_type": "execute_result"
    },
    {
     "data": {
      "image/png": "[encoded data removed]",
      "text/plain": [
       "<Figure size 640x480 with 1 Axes>"
      ]
     },
     "metadata": {},
     "output_type": "display_data"
    }
   ],
   "source": [
    "plt.hist(df['Años_estudio'], bins=6, rwidth=0.9)\n",
    "plt.title('Distribución Frecuencia Años de Estudio')\n",
    "plt.xlabel('Años de estudio')\n",
    "plt.ylabel('Frecuencia')"
   ]
  },
  {
   "cell_type": "code",
   "execution_count": 41,
   "metadata": {},
   "outputs": [
    {
     "data": {
      "text/plain": [
       "Text(0, 0.5, 'Frecuencia')"
      ]
     },
     "execution_count": 41,
     "metadata": {},
     "output_type": "execute_result"
    },
    {
     "data": {
      "image/png": "[encoded data removed]",
      "text/plain": [
       "<Figure size 640x480 with 1 Axes>"
      ]
     },
     "metadata": {},
     "output_type": "display_data"
    }
   ],
   "source": [
    "plt.hist(df['Ingreso_miles'],bins=6, rwidth=0.9)\n",
    "plt.title('Distribución Frecuencias Ingreso')\n",
    "plt.xlabel('Ingreso en miles')\n",
    "plt.ylabel('Frecuencia')"
   ]
  },
  {
   "cell_type": "code",
   "execution_count": 43,
   "metadata": {},
   "outputs": [
    {
     "data": {
      "text/plain": [
       "13.81"
      ]
     },
     "execution_count": 43,
     "metadata": {},
     "output_type": "execute_result"
    }
   ],
   "source": [
    "# media de ingreso en pandas y numpy\n",
    "\n",
    "df['Ingreso_miles'].mean().round(2)"
   ]
  },
  {
   "cell_type": "code",
   "execution_count": 45,
   "metadata": {},
   "outputs": [
    {
     "data": {
      "text/plain": [
       "13.81"
      ]
     },
     "execution_count": 45,
     "metadata": {},
     "output_type": "execute_result"
    }
   ],
   "source": [
    "np.mean(array[0]).round(2)"
   ]
  },
  {
   "cell_type": "code",
   "execution_count": 54,
   "metadata": {},
   "outputs": [
    {
     "name": "stderr",
     "output_type": "stream",
     "text": [
      "/var/folders/g_/fkn0ttqn6w5_k96kvk3ctwm80000gn/T/ipykernel_1813/2428568613.py:3: FutureWarning: Unlike other reduction functions (e.g. `skew`, `kurtosis`), the default behavior of `mode` typically preserves the axis it acts along. In SciPy 1.11.0, this behavior will change: the default value of `keepdims` will become False, the `axis` over which the statistic is taken will be eliminated, and the value None will no longer be accepted. Set `keepdims` to True or False to avoid this warning.\n",
      "  stats.mode(df['Años_estudio'])\n"
     ]
    },
    {
     "data": {
      "text/plain": [
       "ModeResult(mode=array([16]), count=array([3]))"
      ]
     },
     "execution_count": 54,
     "metadata": {},
     "output_type": "execute_result"
    }
   ],
   "source": [
    "#Quiero ver la moda de los años de estudio\n",
    "\n",
    "stats.mode(df['Años_estudio'])"
   ]
  },
  {
   "cell_type": "code",
   "execution_count": 25,
   "metadata": {},
   "outputs": [
    {
     "data": {
      "text/html": [
       "<div>\n",
       "<style scoped>\n",
       "    .dataframe tbody tr th:only-of-type {\n",
       "        vertical-align: middle;\n",
       "    }\n",
       "\n",
       "    .dataframe tbody tr th {\n",
       "        vertical-align: top;\n",
       "    }\n",
       "\n",
       "    .dataframe thead th {\n",
       "        text-align: right;\n",
       "    }\n",
       "</style>\n",
       "<table border=\"1\" class=\"dataframe\">\n",
       "  <thead>\n",
       "    <tr style=\"text-align: right;\">\n",
       "      <th></th>\n",
       "      <th>Años_estudio</th>\n",
       "      <th>Ingreso_miles</th>\n",
       "    </tr>\n",
       "  </thead>\n",
       "  <tbody>\n",
       "    <tr>\n",
       "      <th>0</th>\n",
       "      <td>17</td>\n",
       "      <td>10.5</td>\n",
       "    </tr>\n",
       "    <tr>\n",
       "      <th>1</th>\n",
       "      <td>18</td>\n",
       "      <td>6.8</td>\n",
       "    </tr>\n",
       "    <tr>\n",
       "      <th>2</th>\n",
       "      <td>21</td>\n",
       "      <td>20.7</td>\n",
       "    </tr>\n",
       "    <tr>\n",
       "      <th>3</th>\n",
       "      <td>16</td>\n",
       "      <td>18.2</td>\n",
       "    </tr>\n",
       "    <tr>\n",
       "      <th>4</th>\n",
       "      <td>16</td>\n",
       "      <td>8.6</td>\n",
       "    </tr>\n",
       "    <tr>\n",
       "      <th>5</th>\n",
       "      <td>21</td>\n",
       "      <td>25.8</td>\n",
       "    </tr>\n",
       "    <tr>\n",
       "      <th>6</th>\n",
       "      <td>16</td>\n",
       "      <td>22.2</td>\n",
       "    </tr>\n",
       "    <tr>\n",
       "      <th>7</th>\n",
       "      <td>14</td>\n",
       "      <td>5.9</td>\n",
       "    </tr>\n",
       "    <tr>\n",
       "      <th>8</th>\n",
       "      <td>18</td>\n",
       "      <td>7.6</td>\n",
       "    </tr>\n",
       "    <tr>\n",
       "      <th>9</th>\n",
       "      <td>18</td>\n",
       "      <td>11.8</td>\n",
       "    </tr>\n",
       "    <tr>\n",
       "      <th>11</th>\n",
       "      <td>50</td>\n",
       "      <td>35.0</td>\n",
       "    </tr>\n",
       "    <tr>\n",
       "      <th>12</th>\n",
       "      <td>120</td>\n",
       "      <td>30.0</td>\n",
       "    </tr>\n",
       "  </tbody>\n",
       "</table>\n",
       "</div>"
      ],
      "text/plain": [
       "    Años_estudio  Ingreso_miles\n",
       "0             17           10.5\n",
       "1             18            6.8\n",
       "2             21           20.7\n",
       "3             16           18.2\n",
       "4             16            8.6\n",
       "5             21           25.8\n",
       "6             16           22.2\n",
       "7             14            5.9\n",
       "8             18            7.6\n",
       "9             18           11.8\n",
       "11            50           35.0\n",
       "12           120           30.0"
      ]
     },
     "execution_count": 25,
     "metadata": {},
     "output_type": "execute_result"
    }
   ],
   "source": [
    "# agregar al df [ 50, 35 ], [ 120, 30 ]. Calcular de nuevo la media\n",
    "\n",
    "#rows = [{'Ingreso_miles': 50, 'Años_estudio': 35},\n",
    "#        {'Ingreso_miles': 120, 'Años_estudio': 30}]\n",
    "\n",
    "#rows_df = pd.DataFrame(rows)\n",
    "#rows_df\n",
    "#df_f = pd.concat([df, rows_df])\n",
    "#df_f\n",
    "\n",
    "#O LA FACIL:\n",
    "df.loc[11] = [50,35]\n",
    "df.loc[12] = [120,30] \n",
    "df"
   ]
  },
  {
   "cell_type": "code",
   "execution_count": 51,
   "metadata": {},
   "outputs": [
    {
     "data": {
      "text/plain": [
       "25.675"
      ]
     },
     "execution_count": 51,
     "metadata": {},
     "output_type": "execute_result"
    }
   ],
   "source": [
    "df['Ingreso_miles'].mean()"
   ]
  },
  {
   "cell_type": "code",
   "execution_count": 52,
   "metadata": {},
   "outputs": [
    {
     "data": {
      "text/plain": [
       "20.0"
      ]
     },
     "execution_count": 52,
     "metadata": {},
     "output_type": "execute_result"
    }
   ],
   "source": [
    "df['Años_estudio'].mean()"
   ]
  }
 ],
 "metadata": {
  "kernelspec": {
   "display_name": "base",
   "language": "python",
   "name": "python3"
  },
  "language_info": {
   "codemirror_mode": {
    "name": "ipython",
    "version": 3
   },
   "file_extension": ".py",
   "mimetype": "text/x-python",
   "name": "python",
   "nbconvert_exporter": "python",
   "pygments_lexer": "ipython3",
   "version": "3.10.10"
  },
  "orig_nbformat": 4
 },
 "nbformat": 4,
 "nbformat_minor": 2
}
